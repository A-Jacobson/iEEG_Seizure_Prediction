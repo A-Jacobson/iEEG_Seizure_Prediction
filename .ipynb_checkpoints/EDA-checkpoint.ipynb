{
 "cells": [
  {
   "cell_type": "markdown",
   "metadata": {},
   "source": [
    "\n",
    "# Exploratory Analysis of iEEG Data for Kaggle seizure Prediction\n",
    " \n",
    "The data for this competition were collected from three subjects. They are in the form of 16 channel iEEG signals sampled at 400Hz (or 400 samples per second). There are 10 minute clips (240,000 samples) taken from periods of interictal (no seizures within 4 hours) and preictal (seizure within an hour) periods. They make up the negative (0) and positive (1) classes respectively."
   ]
  },
  {
   "cell_type": "code",
   "execution_count": 1,
   "metadata": {
    "collapsed": false
   },
   "outputs": [],
   "source": [
    "from data_utils import load_data\n",
    "import matplotlib.pyplot as plt\n",
    "import seaborn as sns\n",
    "import numpy as np\n",
    "import pandas as pd\n",
    "import itertools\n",
    "import re\n",
    "from scipy import signal\n",
    "from scipy.signal import butter, lfilter, resample, firwin, decimate\n",
    "\n",
    "%load_ext autoreload\n",
    "%autoreload 2\n",
    "%matplotlib inline\n",
    "sns.set_style(\"white\")"
   ]
  },
  {
   "cell_type": "markdown",
   "metadata": {},
   "source": [
    "## Check class balance\n",
    "Our final goal is classification, so checking the class balance is a good place to start. It's also very quick!\n",
    "\n",
    "\n",
    "There is at least a 10/1 class imbalance in favor of the negative samples. The imbalance seems to get worse for subjects 2 and 3 respectively. This suggests accuracy will be next to useless in the evaluation phase. We will print out confusion matrices and use the AUC for validation as it is Kaggles official scoring metric for this competition"
   ]
  },
  {
   "cell_type": "code",
   "execution_count": 2,
   "metadata": {
    "collapsed": false
   },
   "outputs": [
    {
     "name": "stdout",
     "output_type": "stream",
     "text": [
      "loading 1301 files\n",
      "Wall time: 11 ms\n",
      "loading 2346 files\n",
      "Wall time: 10.1 s\n",
      "loading 2394 files\n",
      "Wall time: 37 ms\n"
     ]
    }
   ],
   "source": [
    "%time X_1, y_1, files_1 = load_data('train_1')\n",
    "%time X_2, y_2, files_2 = load_data('train_2')\n",
    "%time X_2, y_3, files_3 = load_data('train_3')"
   ]
  },
  {
   "cell_type": "code",
   "execution_count": 3,
   "metadata": {
    "collapsed": false
   },
   "outputs": [
    {
     "data": {
      "image/png": "[encoded data removed]",
      "text/plain": [
       "<matplotlib.figure.Figure at 0xb11f6d8>"
      ]
     },
     "metadata": {},
     "output_type": "display_data"
    }
   ],
   "source": [
    "fig = plt.figure()\n",
    "for i, y in enumerate([y_1, y_2, y_3]):\n",
    "    plt.subplots_adjust(wspace=.3, hspace=.4)\n",
    "    ax = fig.add_subplot(1,3,i+1)\n",
    "    fig.set_figheight(3)\n",
    "    fig.set_figwidth(15)\n",
    "    sns.countplot(y)\n",
    "    ax.set_title('y_%d Class Balance' % i)\n",
    "plt.show()"
   ]
  },
  {
   "cell_type": "code",
   "execution_count": 8,
   "metadata": {
    "collapsed": true
   },
   "outputs": [],
   "source": [
    "def find_dropout(X):\n",
    "    X = np.array([x.mean() for x in X])\n",
    "    dropout_indexes = np.where(X == 0)[0]\n",
    "    return dropout_indexes, files[dropout_indexes]"
   ]
  },
  {
   "cell_type": "code",
   "execution_count": null,
   "metadata": {
    "collapsed": true
   },
   "outputs": [],
   "source": [
    "ind_1, skip_1 = find_dropout(X_1)\n",
    "ind_2, skip_2 = find_dropout(X_2)\n",
    "ind_3, skip_3 = find_dropout(X_3)"
   ]
  },
  {
   "cell_type": "markdown",
   "metadata": {},
   "source": [
    "## Grab a random sample and explore the signals"
   ]
  },
  {
   "cell_type": "code",
   "execution_count": 4,
   "metadata": {
    "collapsed": false
   },
   "outputs": [
    {
     "name": "stdout",
     "output_type": "stream",
     "text": [
      "loading 20 files\n",
      "Wall time: 5 ms\n",
      "1_1088_0.mat Array must not contain infs or NaNs\n",
      "1_903_0.mat Array must not contain infs or NaNs\n",
      "1_904_0.mat Array must not contain infs or NaNs\n",
      "1_51_0.mat Array must not contain infs or NaNs\n",
      "1_411_0.mat Array must not contain infs or NaNs\n",
      "1_1119_0.mat Array must not contain infs or NaNs\n",
      "1_108_1.mat Array must not contain infs or NaNs\n",
      "1_1_1.mat Array must not contain infs or NaNs\n",
      "1_24_0.mat Array must not contain infs or NaNs\n"
     ]
    }
   ],
   "source": [
    "%time X, y, files = load_data('train_1', sample=20)\n",
    "X = np.array(list(itertools.islice(X, 20)))"
   ]
  },
  {
   "cell_type": "markdown",
   "metadata": {},
   "source": [
    "X is an (N, Channels, Samples) array, in this case, N = 20"
   ]
  },
  {
   "cell_type": "code",
   "execution_count": 5,
   "metadata": {
    "collapsed": false
   },
   "outputs": [
    {
     "name": "stdout",
     "output_type": "stream",
     "text": [
      "(20L,)\n"
     ]
    }
   ],
   "source": [
    "print X.shape"
   ]
  },
  {
   "cell_type": "markdown",
   "metadata": {},
   "source": [
    "## Find some positive examples"
   ]
  },
  {
   "cell_type": "code",
   "execution_count": 6,
   "metadata": {
    "collapsed": false
   },
   "outputs": [
    {
     "name": "stdout",
     "output_type": "stream",
     "text": [
      "pos examples: [10 12 13]\n",
      "neg examples: [ 0  1  2  3  4  5  6  7  8  9 11 14 15 16 17 18 19]\n"
     ]
    }
   ],
   "source": [
    "pos_idx = np.argwhere(y==1).squeeze(axis=1)\n",
    "neg_idx = np.argwhere(y==0).squeeze(axis=1)\n",
    "print 'pos examples:', pos_idx\n",
    "print 'neg examples:', neg_idx"
   ]
  },
  {
   "cell_type": "code",
   "execution_count": 7,
   "metadata": {
    "collapsed": false
   },
   "outputs": [
    {
     "ename": "AttributeError",
     "evalue": "'NoneType' object has no attribute 'T'",
     "output_type": "error",
     "traceback": [
      "\u001b[1;31m---------------------------------------------------------------------------\u001b[0m",
      "\u001b[1;31mAttributeError\u001b[0m                            Traceback (most recent call last)",
      "\u001b[1;32m<ipython-input-7-fc13c3049398>\u001b[0m in \u001b[0;36m<module>\u001b[1;34m()\u001b[0m\n\u001b[1;32m----> 1\u001b[1;33m \u001b[0mdf_pos\u001b[0m \u001b[1;33m=\u001b[0m \u001b[0mpd\u001b[0m\u001b[1;33m.\u001b[0m\u001b[0mDataFrame\u001b[0m\u001b[1;33m(\u001b[0m\u001b[0mX\u001b[0m\u001b[1;33m[\u001b[0m\u001b[0mpos_idx\u001b[0m\u001b[1;33m[\u001b[0m\u001b[1;36m0\u001b[0m\u001b[1;33m]\u001b[0m\u001b[1;33m]\u001b[0m\u001b[1;33m.\u001b[0m\u001b[0mT\u001b[0m\u001b[1;33m,\u001b[0m \u001b[0mcolumns\u001b[0m\u001b[1;33m=\u001b[0m\u001b[1;33m[\u001b[0m\u001b[0mrange\u001b[0m\u001b[1;33m(\u001b[0m\u001b[1;36m1\u001b[0m\u001b[1;33m,\u001b[0m\u001b[1;36m17\u001b[0m\u001b[1;33m)\u001b[0m\u001b[1;33m]\u001b[0m\u001b[1;33m)\u001b[0m\u001b[1;33m\u001b[0m\u001b[0m\n\u001b[0m\u001b[0;32m      2\u001b[0m \u001b[0mdf_neg\u001b[0m \u001b[1;33m=\u001b[0m \u001b[0mpd\u001b[0m\u001b[1;33m.\u001b[0m\u001b[0mDataFrame\u001b[0m\u001b[1;33m(\u001b[0m\u001b[0mX\u001b[0m\u001b[1;33m[\u001b[0m\u001b[0mneg_idx\u001b[0m\u001b[1;33m[\u001b[0m\u001b[1;36m0\u001b[0m\u001b[1;33m]\u001b[0m\u001b[1;33m]\u001b[0m\u001b[1;33m.\u001b[0m\u001b[0mT\u001b[0m\u001b[1;33m,\u001b[0m \u001b[0mcolumns\u001b[0m\u001b[1;33m=\u001b[0m\u001b[1;33m[\u001b[0m\u001b[0mrange\u001b[0m\u001b[1;33m(\u001b[0m\u001b[1;36m1\u001b[0m\u001b[1;33m,\u001b[0m\u001b[1;36m17\u001b[0m\u001b[1;33m)\u001b[0m\u001b[1;33m]\u001b[0m\u001b[1;33m)\u001b[0m\u001b[1;33m\u001b[0m\u001b[0m\n\u001b[0;32m      3\u001b[0m \u001b[1;32mprint\u001b[0m \u001b[1;34m\"positive sample: \"\u001b[0m\u001b[1;33m,\u001b[0m \u001b[0mfiles\u001b[0m\u001b[1;33m[\u001b[0m\u001b[0mpos_idx\u001b[0m\u001b[1;33m[\u001b[0m\u001b[1;36m0\u001b[0m\u001b[1;33m]\u001b[0m\u001b[1;33m]\u001b[0m\u001b[1;33m\u001b[0m\u001b[0m\n\u001b[0;32m      4\u001b[0m \u001b[1;32mprint\u001b[0m \u001b[1;34m\"negative sample: \"\u001b[0m\u001b[1;33m,\u001b[0m \u001b[0mfiles\u001b[0m\u001b[1;33m[\u001b[0m\u001b[0mneg_idx\u001b[0m\u001b[1;33m[\u001b[0m\u001b[1;36m0\u001b[0m\u001b[1;33m]\u001b[0m\u001b[1;33m]\u001b[0m\u001b[1;33m\u001b[0m\u001b[0m\n",
      "\u001b[1;31mAttributeError\u001b[0m: 'NoneType' object has no attribute 'T'"
     ]
    }
   ],
   "source": [
    "df_pos = pd.DataFrame(X[pos_idx[0]].T, columns=[range(1,17)])\n",
    "df_neg = pd.DataFrame(X[neg_idx[0]].T, columns=[range(1,17)])\n",
    "print \"positive sample: \", files[pos_idx[0]]\n",
    "print \"negative sample: \", files[neg_idx[0]]"
   ]
  },
  {
   "cell_type": "markdown",
   "metadata": {},
   "source": [
    "# Time Domain Analysis\n",
    "\n",
    "## Explore 1-minute clips"
   ]
  },
  {
   "cell_type": "markdown",
   "metadata": {},
   "source": [
    "## Positive"
   ]
  },
  {
   "cell_type": "code",
   "execution_count": null,
   "metadata": {
    "collapsed": false
   },
   "outputs": [],
   "source": [
    "df_pos[0:400*60].plot(figsize=(16,5), colormap='Spectral', fontsize=10)\n",
    "plt.legend(loc=4)\n",
    "plt.show()"
   ]
  },
  {
   "cell_type": "markdown",
   "metadata": {},
   "source": [
    "## Negative"
   ]
  },
  {
   "cell_type": "code",
   "execution_count": null,
   "metadata": {
    "collapsed": false
   },
   "outputs": [],
   "source": [
    "df_neg[0:400*60].plot(figsize=(16,5), colormap='Spectral', fontsize=10)\n",
    "plt.legend(loc=4)\n",
    "plt.show()"
   ]
  },
  {
   "cell_type": "markdown",
   "metadata": {},
   "source": [
    "Notice that the y-axis of the negative sample ranges from -600 to 600 Hz, While the positive y-axis ranges from -200 to 200. This suggests that channel variance may be a good descriminating feature. Though these are only 1-minute long clips from two of many samples."
   ]
  },
  {
   "cell_type": "markdown",
   "metadata": {},
   "source": [
    "## Per channel, positive sample"
   ]
  },
  {
   "cell_type": "code",
   "execution_count": null,
   "metadata": {
    "collapsed": false
   },
   "outputs": [],
   "source": [
    "df_pos[0:400*60].plot(subplots=True, figsize=(15,12), layout=(8,2), colormap='Spectral')\n",
    "plt.show()"
   ]
  },
  {
   "cell_type": "markdown",
   "metadata": {},
   "source": [
    "## Per channel negative sample"
   ]
  },
  {
   "cell_type": "code",
   "execution_count": null,
   "metadata": {
    "collapsed": false
   },
   "outputs": [],
   "source": [
    "df_neg[0:400*60].plot(subplots=True, figsize=(15,12), layout=(8,2), colormap='Spectral')\n",
    "plt.show()"
   ]
  },
  {
   "cell_type": "markdown",
   "metadata": {},
   "source": [
    "## Check some naive statistical features of full 10-minute clips such as:\n",
    "- distribution of each channel\n",
    "- channel means\n",
    "- channel standard deviations\n",
    "- channel correlations"
   ]
  },
  {
   "cell_type": "markdown",
   "metadata": {},
   "source": [
    "## frequency distributions per channel, Positive sample"
   ]
  },
  {
   "cell_type": "code",
   "execution_count": null,
   "metadata": {
    "collapsed": false,
    "scrolled": false
   },
   "outputs": [],
   "source": [
    "df_pos.plot.hist(bins=75, subplots=True, figsize=(15,12), layout=(4,4), colormap='Spectral', sharey=True)\n",
    "plt.show()"
   ]
  },
  {
   "cell_type": "markdown",
   "metadata": {},
   "source": [
    "## frequency distributions per channel, Negative sample"
   ]
  },
  {
   "cell_type": "code",
   "execution_count": null,
   "metadata": {
    "collapsed": false
   },
   "outputs": [],
   "source": [
    "df_neg.plot.hist(bins=75, subplots=True, figsize=(15,12), layout=(4,4), colormap='Spectral', sharey=True, sharex=True)\n",
    "plt.show()"
   ]
  },
  {
   "cell_type": "markdown",
   "metadata": {},
   "source": [
    "These are statitics from the full clips this time. It seems that the per channel distributions of the data are mostly normal, though the means and variances vary. The distributions of negative channel samples are much more narrow, channel variances may be a useful feature."
   ]
  },
  {
   "cell_type": "markdown",
   "metadata": {},
   "source": [
    "## correlation between channels, Positive sample and Negative samples"
   ]
  },
  {
   "cell_type": "code",
   "execution_count": null,
   "metadata": {
    "collapsed": false
   },
   "outputs": [],
   "source": [
    "pos_corrmatrix = np.corrcoef(df_pos.T)\n",
    "neg_corrmatrix = np.corrcoef(df_neg.T)\n",
    "\n",
    "titles = ['pos_corrmatrix', 'neg_corrmatrix']\n",
    "fig, axes = plt.subplots(nrows=1, ncols=2, figsize=(12, 4))\n",
    "for i, matrix in enumerate([pos_corrmatrix, neg_corrmatrix]):\n",
    "    sns.heatmap(matrix, ax=axes[i])\n",
    "    axes[i].set_title(titles[i])\n",
    "plt.show()"
   ]
  },
  {
   "cell_type": "markdown",
   "metadata": {},
   "source": [
    "It seems that, in general, channels close to eachother in indexes eg (1,2), (7,8) are more likely to be correlated with eachother. Perhaps they are placed closer together on the brain (I know next to nothing about iEEG implants so take this with a gain of salt). Additionally, the correlations are weaker in this positive sample, but that doesnt mean much without further investigation on a larger number of samples."
   ]
  },
  {
   "cell_type": "markdown",
   "metadata": {},
   "source": [
    "Correlation matrices are symmetrical. If we are going to use them as features we should discard the redundant information"
   ]
  },
  {
   "cell_type": "code",
   "execution_count": null,
   "metadata": {
    "collapsed": false
   },
   "outputs": [],
   "source": [
    "sns.heatmap(np.triu(neg_corrmatrix))\n",
    "plt.show()"
   ]
  },
  {
   "cell_type": "code",
   "execution_count": null,
   "metadata": {
    "collapsed": false
   },
   "outputs": [],
   "source": [
    "indices = np.triu_indices_from(neg_corrmatrix)\n",
    "corr_features = np.asarray(neg_corrmatrix[indices])\n",
    "neg_corrmatrix.ravel().shape, corr_features.shape"
   ]
  },
  {
   "cell_type": "markdown",
   "metadata": {},
   "source": [
    "Eigenvalues represent the variance of the data along the eigenvector directions"
   ]
  },
  {
   "cell_type": "code",
   "execution_count": null,
   "metadata": {
    "collapsed": true
   },
   "outputs": [],
   "source": [
    "eigs_pos = np.linalg.eigvals(pos_corrmatrix)\n",
    "eigs_neg = np.linalg.eigvals(neg_corrmatrix)"
   ]
  },
  {
   "cell_type": "markdown",
   "metadata": {},
   "source": [
    "The eigenvector with the largest eigenvalue is the direction along which the data set has the maximum variance.\n",
    "\n",
    "## Normed eiginvalues"
   ]
  },
  {
   "cell_type": "code",
   "execution_count": null,
   "metadata": {
    "collapsed": false
   },
   "outputs": [],
   "source": [
    "plt.bar(range(len(eigs_pos)), sorted(eigs_pos/sum(eigs_pos), reverse=True))\n",
    "plt.show()"
   ]
  },
  {
   "cell_type": "code",
   "execution_count": null,
   "metadata": {
    "collapsed": false
   },
   "outputs": [],
   "source": [
    "plt.bar(range(len(eigs_neg)), sorted(eigs_pos/sum(eigs_neg), reverse=True))\n",
    "plt.show()"
   ]
  },
  {
   "cell_type": "markdown",
   "metadata": {},
   "source": [
    "## Try Basic signal processing\n",
    "\n",
    "- apply bandpass filter to exclude frequencies below 0.1 (0 is probably dropout) and above 180.\n",
    "- explore signal in frequency domain."
   ]
  },
  {
   "cell_type": "code",
   "execution_count": null,
   "metadata": {
    "collapsed": true
   },
   "outputs": [],
   "source": [
    "def butter_bandpass(lowcut, highcut, fs, order=5):\n",
    "    nyq = 0.5 * fs\n",
    "    low = lowcut / nyq\n",
    "    high = highcut / nyq\n",
    "    b, a = butter(order, [low, high], btype='bandpass')\n",
    "    return b, a\n",
    "\n",
    "\n",
    "def butter_bandpass_filter(data, lowcut=0.1, highcut=180.0, fs=400.0, order=5):\n",
    "    b, a = butter_bandpass(lowcut, highcut, fs, order=order)\n",
    "    y = lfilter(b, a, data)\n",
    "    return y"
   ]
  },
  {
   "cell_type": "code",
   "execution_count": null,
   "metadata": {
    "collapsed": false
   },
   "outputs": [],
   "source": [
    "pos_filtered = df_pos.apply(butter_bandpass_filter)\n",
    "neg_filtered = df_neg.apply(butter_bandpass_filter)"
   ]
  },
  {
   "cell_type": "markdown",
   "metadata": {},
   "source": [
    "## Positive sample, before and after filtering"
   ]
  },
  {
   "cell_type": "code",
   "execution_count": null,
   "metadata": {
    "collapsed": false
   },
   "outputs": [],
   "source": [
    "df_pos[0:400*60].plot(figsize=(16,5), colormap='Spectral', fontsize=10)\n",
    "plt.legend(loc=4)\n",
    "pos_filtered[0:400*60].plot(figsize=(16,5), colormap='Spectral', fontsize=10)\n",
    "plt.legend(loc=4)\n",
    "plt.show()"
   ]
  },
  {
   "cell_type": "markdown",
   "metadata": {},
   "source": [
    "## Negative sample, before and after filtering"
   ]
  },
  {
   "cell_type": "code",
   "execution_count": null,
   "metadata": {
    "collapsed": false
   },
   "outputs": [],
   "source": [
    "df_neg[0:400*60].plot(figsize=(16,5), colormap='Spectral', fontsize=10)\n",
    "plt.legend(loc=4)\n",
    "neg_filtered[0:400*60].plot(figsize=(16,5), colormap='Spectral', fontsize=10)\n",
    "plt.legend(loc=4)\n",
    "plt.show()"
   ]
  },
  {
   "cell_type": "markdown",
   "metadata": {},
   "source": [
    "The y-axis has tightened for the filtered datasets as we have thrown out some frequencies to (hopefully) reduce noise."
   ]
  },
  {
   "cell_type": "markdown",
   "metadata": {},
   "source": [
    "## Frequency-Domain Analysis\n",
    "While time-domain analysis shows how a signal changes over time, frequency-domain analysis shows how the signal's energy is distributed over a range of frequencies."
   ]
  },
  {
   "cell_type": "code",
   "execution_count": null,
   "metadata": {
    "collapsed": true
   },
   "outputs": [],
   "source": [
    "def fft_magnitude(time_data):\n",
    "    return np.absolute(np.fft.rfft(time_data, axis=0))"
   ]
  },
  {
   "cell_type": "code",
   "execution_count": null,
   "metadata": {
    "collapsed": false
   },
   "outputs": [],
   "source": [
    "pos_fft = pd.DataFrame(fft_magnitude(pos_filtered)[:,1:48])\n",
    "neg_fft = pd.DataFrame(fft_magnitude(neg_filtered)[:,1:48])"
   ]
  },
  {
   "cell_type": "markdown",
   "metadata": {},
   "source": [
    "fft returns 250k points/2 + 1 signals in the frequency domain.  "
   ]
  },
  {
   "cell_type": "markdown",
   "metadata": {},
   "source": [
    "## Decibles, Positive"
   ]
  },
  {
   "cell_type": "code",
   "execution_count": null,
   "metadata": {
    "collapsed": false
   },
   "outputs": [],
   "source": [
    "pos_fft[20:5000].plot(figsize=(16,5), colormap='Spectral', fontsize=10)\n",
    "plt.ylabel('magnitude')\n",
    "plt.xlabel('frequency(cycles/sample)')\n",
    "plt.show()"
   ]
  },
  {
   "cell_type": "markdown",
   "metadata": {},
   "source": [
    "## Decibles, Negative"
   ]
  },
  {
   "cell_type": "code",
   "execution_count": null,
   "metadata": {
    "collapsed": false
   },
   "outputs": [],
   "source": [
    "neg_fft[20:5000].plot(figsize=(16,5), colormap='Spectral', fontsize=10)\n",
    "plt.ylabel('magnitude')\n",
    "plt.xlabel('frequency(cycles/sample)')\n",
    "plt.show()"
   ]
  },
  {
   "cell_type": "markdown",
   "metadata": {},
   "source": [
    "## Per channel magnitude, negative sample"
   ]
  },
  {
   "cell_type": "code",
   "execution_count": null,
   "metadata": {
    "collapsed": false
   },
   "outputs": [],
   "source": [
    "pos_fft[20:5000].plot(subplots=True, figsize=(15,12), layout=(8,2), colormap='Spectral')\n",
    "plt.show()"
   ]
  },
  {
   "cell_type": "markdown",
   "metadata": {},
   "source": [
    "## Per channel magnitude, negative sample"
   ]
  },
  {
   "cell_type": "code",
   "execution_count": null,
   "metadata": {
    "collapsed": false
   },
   "outputs": [],
   "source": [
    "neg_fft.plot(subplots=True, figsize=(15,12), layout=(8,2), colormap='Spectral')\n",
    "plt.show()"
   ]
  },
  {
   "cell_type": "markdown",
   "metadata": {},
   "source": [
    "I plotted the entire frequency domain representation but it is apparent that many of the frequencies are very rare. It may be a good idea do slice off the parts with very little information as a form of dimensionality reduction when these are used as features."
   ]
  },
  {
   "cell_type": "markdown",
   "metadata": {},
   "source": [
    "## Power Spectral Density"
   ]
  },
  {
   "cell_type": "code",
   "execution_count": null,
   "metadata": {
    "collapsed": false
   },
   "outputs": [],
   "source": [
    "p, f = signal.welch(pos_filtered[1], fs=400)"
   ]
  },
  {
   "cell_type": "code",
   "execution_count": null,
   "metadata": {
    "collapsed": false
   },
   "outputs": [],
   "source": [
    "p.shape, f.shape"
   ]
  },
  {
   "cell_type": "code",
   "execution_count": null,
   "metadata": {
    "collapsed": false
   },
   "outputs": [],
   "source": [
    "plt.psd(pos_filtered[12], NFFT=512, Fs=400)\n",
    "plt.show()"
   ]
  },
  {
   "cell_type": "code",
   "execution_count": null,
   "metadata": {
    "collapsed": false
   },
   "outputs": [],
   "source": [
    "plt.psd(neg_filtered[12], NFFT=512, Fs=400)\n",
    "plt.show()"
   ]
  },
  {
   "cell_type": "code",
   "execution_count": null,
   "metadata": {
    "collapsed": false
   },
   "outputs": [],
   "source": [
    "def plot_psd(df):\n",
    "    fig = plt.figure()\n",
    "    for i, col in enumerate(df.columns):\n",
    "        plt.subplots_adjust(wspace=.02, hspace=.2)\n",
    "        ax = fig.add_subplot(2,8,i+1)\n",
    "        fig.set_figheight(4)\n",
    "        fig.set_figwidth(17)\n",
    "        plt.psd(df[col], NFFT=512, Fs=400)\n",
    "        ax.get_xaxis().set_visible(False)\n",
    "        ax.get_yaxis().set_visible(False)\n",
    "        ax.set_title(col)   "
   ]
  },
  {
   "cell_type": "code",
   "execution_count": null,
   "metadata": {
    "collapsed": false
   },
   "outputs": [],
   "source": [
    "plot_psd(pos_filtered)"
   ]
  },
  {
   "cell_type": "code",
   "execution_count": null,
   "metadata": {
    "collapsed": false
   },
   "outputs": [],
   "source": [
    "plot_psd(neg_filtered)"
   ]
  },
  {
   "cell_type": "code",
   "execution_count": null,
   "metadata": {
    "collapsed": true
   },
   "outputs": [],
   "source": []
  },
  {
   "cell_type": "markdown",
   "metadata": {},
   "source": [
    "## Remove 100% data dropout samples\n",
    "Competition admins mentioned there are some samples with 100% data dropout and that they should be removed. Lets find them and remove them"
   ]
  },
  {
   "cell_type": "code",
   "execution_count": null,
   "metadata": {
    "collapsed": true
   },
   "outputs": [],
   "source": [
    "def find_dropout(X):\n",
    "    X = np.array([x.mean() for x in X])\n",
    "    dropout_indexes = np.where(X == 0)[0]\n",
    "    return dropout_indexes, files[dropout_indexes]\n",
    "\n",
    "ind_1, skip_1 = find_dropout(X_1)\n",
    "ind_2, skip_2 = find_dropout(X_2)\n",
    "ind_3, skip_3 = find_dropout(X_3)"
   ]
  }
 ],
 "metadata": {
  "kernelspec": {
   "display_name": "Python 2",
   "language": "python",
   "name": "python2"
  },
  "language_info": {
   "codemirror_mode": {
    "name": "ipython",
    "version": 2
   },
   "file_extension": ".py",
   "mimetype": "text/x-python",
   "name": "python",
   "nbconvert_exporter": "python",
   "pygments_lexer": "ipython2",
   "version": "2.7.11"
  }
 },
 "nbformat": 4,
 "nbformat_minor": 0
}
