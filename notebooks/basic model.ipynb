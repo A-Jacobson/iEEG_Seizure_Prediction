{
 "cells": [
  {
   "cell_type": "code",
   "execution_count": 30,
   "metadata": {
    "collapsed": false
   },
   "outputs": [
    {
     "name": "stdout",
     "output_type": "stream",
     "text": [
      "The autoreload extension is already loaded. To reload it, use:\n",
      "  %reload_ext autoreload\n"
     ]
    }
   ],
   "source": [
    "from data_utils import load_data, read_file\n",
    "from sklearn.metrics import roc_auc_score, confusion_matrix\n",
    "from sklearn.linear_model import LogisticRegression\n",
    "from sklearn.svm import SVC\n",
    "from sklearn.ensemble import AdaBoostClassifier, RandomForestClassifier\n",
    "from sklearn.cross_validation import train_test_split\n",
    "import matplotlib.pyplot as plt\n",
    "import seaborn as sns\n",
    "import numpy as np\n",
    "import os\n",
    "%load_ext autoreload\n",
    "%autoreload 2\n",
    "%matplotlib inline"
   ]
  },
  {
   "cell_type": "code",
   "execution_count": 2,
   "metadata": {
    "collapsed": false,
    "scrolled": true
   },
   "outputs": [
    {
     "name": "stdout",
     "output_type": "stream",
     "text": [
      "loading 1267 files\n",
      "Wall time: 10 ms\n"
     ]
    }
   ],
   "source": [
    "%time X, y, files = load_data('train_1', features=True)"
   ]
  },
  {
   "cell_type": "code",
   "execution_count": 3,
   "metadata": {
    "collapsed": false
   },
   "outputs": [
    {
     "name": "stdout",
     "output_type": "stream",
     "text": [
      "Wall time: 5min 31s\n"
     ]
    }
   ],
   "source": [
    "%time X = np.array(list(X))"
   ]
  },
  {
   "cell_type": "code",
   "execution_count": 4,
   "metadata": {
    "collapsed": false
   },
   "outputs": [],
   "source": [
    "X_train, X_test, y_train, y_test = train_test_split(X, y, test_size=0.33, random_state=1337)"
   ]
  },
  {
   "cell_type": "code",
   "execution_count": 5,
   "metadata": {
    "collapsed": false
   },
   "outputs": [],
   "source": [
    "model = LogisticRegression(C=1, n_jobs=-1, class_weight='balanced')\n",
    "model2 = AdaBoostClassifier(n_estimators=100, random_state=1337)\n",
    "model3 = RandomForestClassifier(n_estimators=500, n_jobs=-1, random_state=1337)\n",
    "model4 = SVC(C=1, class_weight='balanced')"
   ]
  },
  {
   "cell_type": "code",
   "execution_count": 6,
   "metadata": {
    "collapsed": false
   },
   "outputs": [
    {
     "name": "stdout",
     "output_type": "stream",
     "text": [
      "Wall time: 4.4 s\n",
      "Wall time: 7.01 s\n",
      "Wall time: 1.62 s\n",
      "Wall time: 682 ms\n"
     ]
    },
    {
     "data": {
      "text/plain": [
       "SVC(C=1, cache_size=200, class_weight='balanced', coef0=0.0,\n",
       "  decision_function_shape=None, degree=3, gamma='auto', kernel='rbf',\n",
       "  max_iter=-1, probability=False, random_state=None, shrinking=True,\n",
       "  tol=0.001, verbose=False)"
      ]
     },
     "execution_count": 6,
     "metadata": {},
     "output_type": "execute_result"
    }
   ],
   "source": [
    "%time model.fit(X_train, y_train)\n",
    "%time model2.fit(X_train, y_train)\n",
    "%time model3.fit(X_train, y_train)\n",
    "%time model4.fit(X_train, y_train)"
   ]
  },
  {
   "cell_type": "code",
   "execution_count": 7,
   "metadata": {
    "collapsed": true
   },
   "outputs": [],
   "source": [
    "y_preds = model.predict(X_test)\n",
    "y_preds2 = model2.predict(X_test)\n",
    "y_preds3 = model3.predict(X_test)\n",
    "y_preds4 = model4.predict(X_test)"
   ]
  },
  {
   "cell_type": "code",
   "execution_count": 8,
   "metadata": {
    "collapsed": true
   },
   "outputs": [],
   "source": [
    "score_1 = roc_auc_score(y_test, y_preds)\n",
    "score_2 = roc_auc_score(y_test, y_preds2)\n",
    "score_3 = roc_auc_score(y_test, y_preds3)\n",
    "score_4 = roc_auc_score(y_test, y_preds4)"
   ]
  },
  {
   "cell_type": "code",
   "execution_count": 9,
   "metadata": {
    "collapsed": false
   },
   "outputs": [
    {
     "name": "stdout",
     "output_type": "stream",
     "text": [
      "AUC model_1 0.530520: \n",
      "AUC model_2 0.522325: \n",
      "AUC model_3 0.512195: \n",
      "AUC model_4 0.515421: \n"
     ]
    }
   ],
   "source": [
    "for i, score in enumerate([score_1, score_2, score_3, score_4]):\n",
    "    print \"AUC model_%s %f: \" %(i+1, score)"
   ]
  },
  {
   "cell_type": "code",
   "execution_count": 10,
   "metadata": {
    "collapsed": true
   },
   "outputs": [],
   "source": [
    "matrix_1 = confusion_matrix(y_test, y_preds)\n",
    "matrix_2 = confusion_matrix(y_test, y_preds2)\n",
    "matrix_3 = confusion_matrix(y_test, y_preds3)\n",
    "matrix_4 = confusion_matrix(y_test, y_preds4)"
   ]
  },
  {
   "cell_type": "code",
   "execution_count": 11,
   "metadata": {
    "collapsed": false
   },
   "outputs": [
    {
     "data": {
      "image/png": "[encoded data removed]",
      "text/plain": [
       "<matplotlib.figure.Figure at 0x43a0390>"
      ]
     },
     "metadata": {},
     "output_type": "display_data"
    }
   ],
   "source": [
    "titles = ['model_1', 'model_2', 'model_3', 'model_4']\n",
    "fig, axes = plt.subplots(nrows=1, ncols=4, figsize=(15, 3))\n",
    "for i, matrix in enumerate([matrix_1, matrix_2, matrix_3, matrix_4]):\n",
    "    sns.heatmap(matrix, annot=True, fmt='d', ax=axes[i])\n",
    "    axes[i].set_title(titles[i])\n",
    "plt.show()"
   ]
  },
  {
   "cell_type": "code",
   "execution_count": 12,
   "metadata": {
    "collapsed": false
   },
   "outputs": [],
   "source": [
    "from imblearn.over_sampling import SMOTE\n",
    "sm = SMOTE(kind='regular')"
   ]
  },
  {
   "cell_type": "code",
   "execution_count": 13,
   "metadata": {
    "collapsed": false
   },
   "outputs": [],
   "source": [
    "X_resampled, y_resampled = sm.fit_sample(X_train, y_train)"
   ]
  },
  {
   "cell_type": "code",
   "execution_count": 14,
   "metadata": {
    "collapsed": false
   },
   "outputs": [
    {
     "name": "stdout",
     "output_type": "stream",
     "text": [
      "Wall time: 8.4 s\n",
      "Wall time: 12.8 s\n",
      "Wall time: 3.12 s\n",
      "Wall time: 2.19 s\n"
     ]
    },
    {
     "data": {
      "text/plain": [
       "SVC(C=1, cache_size=200, class_weight='balanced', coef0=0.0,\n",
       "  decision_function_shape=None, degree=3, gamma='auto', kernel='rbf',\n",
       "  max_iter=-1, probability=False, random_state=None, shrinking=True,\n",
       "  tol=0.001, verbose=False)"
      ]
     },
     "execution_count": 14,
     "metadata": {},
     "output_type": "execute_result"
    }
   ],
   "source": [
    "%time model.fit(X_resampled, y_resampled)\n",
    "%time model2.fit(X_resampled, y_resampled)\n",
    "%time model3.fit(X_resampled, y_resampled)\n",
    "%time model4.fit(X_resampled, y_resampled)"
   ]
  },
  {
   "cell_type": "code",
   "execution_count": 15,
   "metadata": {
    "collapsed": true
   },
   "outputs": [],
   "source": [
    "y_preds_smote = model.predict(X_test)\n",
    "y_preds2_smote = model2.predict(X_test)\n",
    "y_preds3_smote = model3.predict(X_test)\n",
    "y_preds4_smote = model4.predict(X_test)"
   ]
  },
  {
   "cell_type": "code",
   "execution_count": 16,
   "metadata": {
    "collapsed": false
   },
   "outputs": [],
   "source": [
    "score_1 = roc_auc_score(y_test, y_preds_smote)\n",
    "score_2 = roc_auc_score(y_test, y_preds2_smote)\n",
    "score_3 = roc_auc_score(y_test, y_preds3_smote)\n",
    "score_4 = roc_auc_score(y_test, y_preds4_smote)"
   ]
  },
  {
   "cell_type": "code",
   "execution_count": 17,
   "metadata": {
    "collapsed": false
   },
   "outputs": [
    {
     "name": "stdout",
     "output_type": "stream",
     "text": [
      "AUC model_1 0.540812: \n",
      "AUC model_2 0.545683: \n",
      "AUC model_3 0.534230: \n",
      "AUC model_4 0.509840: \n"
     ]
    }
   ],
   "source": [
    "for i, score in enumerate([score_1, score_2, score_3, score_4]):\n",
    "    print \"AUC model_%s %f: \" %(i+1, score)"
   ]
  },
  {
   "cell_type": "code",
   "execution_count": 18,
   "metadata": {
    "collapsed": true
   },
   "outputs": [],
   "source": [
    "matrix_1 = confusion_matrix(y_test, y_preds_smote)\n",
    "matrix_2 = confusion_matrix(y_test, y_preds2_smote)\n",
    "matrix_3 = confusion_matrix(y_test, y_preds3_smote)\n",
    "matrix_4 = confusion_matrix(y_test, y_preds4_smote)"
   ]
  },
  {
   "cell_type": "code",
   "execution_count": 19,
   "metadata": {
    "collapsed": false
   },
   "outputs": [
    {
     "data": {
      "image/png": "[encoded data removed]",
      "text/plain": [
       "<matplotlib.figure.Figure at 0xd02d7f0>"
      ]
     },
     "metadata": {},
     "output_type": "display_data"
    }
   ],
   "source": [
    "titles = ['model_1', 'model_2', 'model_3', 'model_4']\n",
    "fig, axes = plt.subplots(nrows=1, ncols=4, figsize=(15, 3))\n",
    "for i, matrix in enumerate([matrix_1, matrix_2, matrix_3, matrix_4]):\n",
    "    sns.heatmap(matrix, annot=True, fmt='d', ax=axes[i])\n",
    "    axes[i].set_title(titles[i])\n",
    "plt.show()"
   ]
  }
 ],
 "metadata": {
  "kernelspec": {
   "display_name": "Python 2",
   "language": "python",
   "name": "python2"
  },
  "language_info": {
   "codemirror_mode": {
    "name": "ipython",
    "version": 2
   },
   "file_extension": ".py",
   "mimetype": "text/x-python",
   "name": "python",
   "nbconvert_exporter": "python",
   "pygments_lexer": "ipython2",
   "version": "2.7.11"
  }
 },
 "nbformat": 4,
 "nbformat_minor": 0
}
