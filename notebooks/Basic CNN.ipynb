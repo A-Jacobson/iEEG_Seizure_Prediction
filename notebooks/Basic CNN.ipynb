{
 "cells": [
  {
   "cell_type": "code",
   "execution_count": 2,
   "metadata": {
    "collapsed": false,
    "scrolled": true
   },
   "outputs": [],
   "source": [
    "from data_utils import load_data\n",
    "import matplotlib.pyplot as plt\n",
    "import seaborn as sns\n",
    "%load_ext autoreload\n",
    "%autoreload 2\n",
    "%matplotlib inline"
   ]
  },
  {
   "cell_type": "code",
   "execution_count": 47,
   "metadata": {
    "collapsed": false
   },
   "outputs": [
    {
     "name": "stdout",
     "output_type": "stream",
     "text": [
      "loading 1301 with 7 processes.\n",
      "Wall time: 4min 31s\n"
     ]
    }
   ],
   "source": [
    "%time X, y, files = load_data('train_1', shape='flat')"
   ]
  },
  {
   "cell_type": "code",
   "execution_count": 60,
   "metadata": {
    "collapsed": false
   },
   "outputs": [],
   "source": [
    "from sklearn.preprocessing import normalize\n",
    "from sklearn.cross_validation import train_test_split\n",
    "\n",
    "\n",
    "normalize(X, copy=False)\n",
    "\n",
    "X_train, X_test, y_train, y_test = train_test_split(X, y, test_size=0.33, random_state=1337)"
   ]
  },
  {
   "cell_type": "code",
   "execution_count": 61,
   "metadata": {
    "collapsed": false
   },
   "outputs": [],
   "source": [
    "X_train_2d = X_train.reshape((len(X_train), 16, 600, 1))\n",
    "X_test_2d = X_test.reshape((len(X_test), 16, 600, 1))\n"
   ]
  },
  {
   "cell_type": "code",
   "execution_count": 124,
   "metadata": {
    "collapsed": false
   },
   "outputs": [],
   "source": [
    "from keras.models import Sequential\n",
    "from keras.layers import Convolution2D, Dense, Dropout, Flatten, MaxPooling2D, BatchNormalization\n",
    "from keras.callbacks import EarlyStopping\n",
    "import numpy as np"
   ]
  },
  {
   "cell_type": "code",
   "execution_count": 125,
   "metadata": {
    "collapsed": false
   },
   "outputs": [],
   "source": [
    "cnn = Sequential()\n",
    "cnn.add(Convolution2D(64, 3, 1, border_mode=\"same\", activation=\"relu\", input_shape=(16, 600, 1)))\n",
    "cnn.add(MaxPooling2D(pool_size=(2, 1)))\n",
    "cnn.add(Flatten())\n",
    "cnn.add(Dense(512, activation=\"relu\"))\n",
    "cnn.add(Dropout(0.9))\n",
    "cnn.add(Dense(512, activation=\"relu\"))\n",
    "cnn.add(Dropout(0.9))\n",
    "cnn.add(Dense(1, init='normal', activation='sigmoid'))\n",
    "cnn.compile(loss='binary_crossentropy', optimizer='adam', metrics=['accuracy'])\n"
   ]
  },
  {
   "cell_type": "code",
   "execution_count": 127,
   "metadata": {
    "collapsed": true
   },
   "outputs": [],
   "source": [
    "earlystop = EarlyStopping(patience=20)"
   ]
  },
  {
   "cell_type": "code",
   "execution_count": 128,
   "metadata": {
    "collapsed": false
   },
   "outputs": [
    {
     "name": "stdout",
     "output_type": "stream",
     "text": [
      "Train on 871 samples, validate on 430 samples\n",
      "Epoch 1/50\n",
      "871/871 [==============================] - 0s - loss: 0.0565 - acc: 0.9805 - val_loss: 0.8788 - val_acc: 0.8721\n",
      "Epoch 2/50\n",
      "871/871 [==============================] - 0s - loss: 0.0572 - acc: 0.9770 - val_loss: 0.8686 - val_acc: 0.8721\n",
      "Epoch 3/50\n",
      "871/871 [==============================] - 0s - loss: 0.0622 - acc: 0.9770 - val_loss: 0.9631 - val_acc: 0.8744\n",
      "Epoch 4/50\n",
      "871/871 [==============================] - 0s - loss: 0.0531 - acc: 0.9816 - val_loss: 1.0101 - val_acc: 0.8721\n",
      "Epoch 5/50\n",
      "871/871 [==============================] - 0s - loss: 0.0503 - acc: 0.9828 - val_loss: 1.0567 - val_acc: 0.8744\n",
      "Epoch 6/50\n",
      "871/871 [==============================] - 0s - loss: 0.0445 - acc: 0.9862 - val_loss: 0.9820 - val_acc: 0.8698\n",
      "Epoch 7/50\n",
      "871/871 [==============================] - 0s - loss: 0.0452 - acc: 0.9816 - val_loss: 1.1964 - val_acc: 0.8791\n",
      "Epoch 8/50\n",
      "871/871 [==============================] - 0s - loss: 0.0562 - acc: 0.9793 - val_loss: 0.9782 - val_acc: 0.8674\n",
      "Epoch 9/50\n",
      "871/871 [==============================] - 0s - loss: 0.0438 - acc: 0.9851 - val_loss: 1.0837 - val_acc: 0.8721\n",
      "Epoch 10/50\n",
      "871/871 [==============================] - 0s - loss: 0.0467 - acc: 0.9828 - val_loss: 1.1311 - val_acc: 0.8744\n",
      "Epoch 11/50\n",
      "871/871 [==============================] - 0s - loss: 0.0360 - acc: 0.9862 - val_loss: 0.9648 - val_acc: 0.8674\n",
      "Epoch 12/50\n",
      "871/871 [==============================] - 0s - loss: 0.0449 - acc: 0.9839 - val_loss: 1.0586 - val_acc: 0.8698\n",
      "Epoch 13/50\n",
      "871/871 [==============================] - 0s - loss: 0.0369 - acc: 0.9885 - val_loss: 1.1168 - val_acc: 0.8744\n",
      "Epoch 14/50\n",
      "871/871 [==============================] - 0s - loss: 0.0415 - acc: 0.9851 - val_loss: 1.1098 - val_acc: 0.8814\n",
      "Epoch 15/50\n",
      "871/871 [==============================] - 0s - loss: 0.0370 - acc: 0.9862 - val_loss: 1.0207 - val_acc: 0.8791\n",
      "Epoch 16/50\n",
      "871/871 [==============================] - 0s - loss: 0.0321 - acc: 0.9885 - val_loss: 1.2615 - val_acc: 0.8884\n",
      "Epoch 17/50\n",
      "871/871 [==============================] - 0s - loss: 0.0342 - acc: 0.9897 - val_loss: 1.1603 - val_acc: 0.8814\n",
      "Epoch 18/50\n",
      "871/871 [==============================] - 0s - loss: 0.0304 - acc: 0.9897 - val_loss: 1.2001 - val_acc: 0.8860\n",
      "Epoch 19/50\n",
      "871/871 [==============================] - 0s - loss: 0.0487 - acc: 0.9862 - val_loss: 1.1537 - val_acc: 0.8837\n",
      "Epoch 20/50\n",
      "871/871 [==============================] - 0s - loss: 0.0326 - acc: 0.9862 - val_loss: 1.2756 - val_acc: 0.8884\n",
      "Epoch 21/50\n",
      "871/871 [==============================] - 0s - loss: 0.0282 - acc: 0.9897 - val_loss: 1.2169 - val_acc: 0.8837\n",
      "Epoch 22/50\n",
      "871/871 [==============================] - 0s - loss: 0.0311 - acc: 0.9908 - val_loss: 1.2130 - val_acc: 0.8814\n",
      "Epoch 23/50\n",
      "871/871 [==============================] - 0s - loss: 0.0340 - acc: 0.9874 - val_loss: 1.2264 - val_acc: 0.8837\n"
     ]
    },
    {
     "data": {
      "text/plain": [
       "<keras.callbacks.History at 0x11a403588>"
      ]
     },
     "execution_count": 128,
     "metadata": {},
     "output_type": "execute_result"
    }
   ],
   "source": [
    "cnn.fit(X_train_2d, y_train, nb_epoch=50, validation_data=(X_test_2d, y_test), callbacks=[earlystop])"
   ]
  },
  {
   "cell_type": "code",
   "execution_count": 129,
   "metadata": {
    "collapsed": false
   },
   "outputs": [
    {
     "name": "stdout",
     "output_type": "stream",
     "text": [
      "416/430 [============================>.] - ETA: 0s"
     ]
    }
   ],
   "source": [
    "preds = cnn.predict_classes(X_test_2d)"
   ]
  },
  {
   "cell_type": "code",
   "execution_count": 130,
   "metadata": {
    "collapsed": true
   },
   "outputs": [],
   "source": [
    "from sklearn.metrics import confusion_matrix"
   ]
  },
  {
   "cell_type": "code",
   "execution_count": 131,
   "metadata": {
    "collapsed": false
   },
   "outputs": [
    {
     "name": "stdout",
     "output_type": "stream",
     "text": [
      "864/871 [============================>.] - ETA: 0s"
     ]
    }
   ],
   "source": [
    "preds_train = cnn.predict_classes(X_train_2d)"
   ]
  },
  {
   "cell_type": "code",
   "execution_count": 132,
   "metadata": {
    "collapsed": false
   },
   "outputs": [
    {
     "data": {
      "text/plain": [
       "array([[768,   0],\n",
       "       [  6,  97]])"
      ]
     },
     "execution_count": 132,
     "metadata": {},
     "output_type": "execute_result"
    }
   ],
   "source": [
    "confusion_matrix(y_train, preds_train)"
   ]
  },
  {
   "cell_type": "code",
   "execution_count": 133,
   "metadata": {
    "collapsed": false
   },
   "outputs": [
    {
     "data": {
      "text/plain": [
       "array([[380,   4],\n",
       "       [ 46,   0]])"
      ]
     },
     "execution_count": 133,
     "metadata": {},
     "output_type": "execute_result"
    }
   ],
   "source": [
    "confusion_matrix(y_test, preds)"
   ]
  },
  {
   "cell_type": "code",
   "execution_count": 134,
   "metadata": {
    "collapsed": true
   },
   "outputs": [],
   "source": [
    "from sklearn.metrics import roc_auc_score"
   ]
  },
  {
   "cell_type": "code",
   "execution_count": 135,
   "metadata": {
    "collapsed": false
   },
   "outputs": [
    {
     "data": {
      "text/plain": [
       "0.49479166666666669"
      ]
     },
     "execution_count": 135,
     "metadata": {},
     "output_type": "execute_result"
    }
   ],
   "source": [
    "roc_auc_score(y_test, preds)"
   ]
  },
  {
   "cell_type": "code",
   "execution_count": 136,
   "metadata": {
    "collapsed": false
   },
   "outputs": [
    {
     "data": {
      "text/plain": [
       "array([0, 0, 0, 0, 1, 0, 0, 0, 0, 1, 1, 0, 0, 0, 0, 0, 1, 1, 0, 1, 0, 0, 0,\n",
       "       0, 0, 0, 0, 0, 0, 0, 0, 0, 0, 0, 0, 0, 0, 0, 0, 0, 0, 1, 0, 0, 0, 0,\n",
       "       0, 0, 0, 0, 0, 1, 0, 0, 0, 0, 0, 0, 0, 0, 0, 0, 0, 0, 0, 0, 0, 1, 0,\n",
       "       1, 0, 0, 1, 0, 0, 0, 1, 0, 0, 0, 1, 0, 0, 0, 1, 0, 0, 0, 0, 1, 0, 0,\n",
       "       0, 0, 0, 0, 0, 0, 0, 0, 0, 0, 0, 1, 0, 0, 0, 0, 0, 0, 1, 0, 0, 0, 0,\n",
       "       0, 0, 0, 0, 0, 0, 0, 0, 0, 0, 0, 0, 0, 0, 0, 0, 0, 0, 0, 0, 0, 0, 0,\n",
       "       0, 0, 0, 0, 0, 0, 0, 0, 0, 0, 0, 1, 0, 0, 1, 0, 0, 0, 0, 1, 0, 0, 0,\n",
       "       0, 0, 0, 0, 1, 0, 0, 1, 0, 1, 0, 0, 0, 0, 1, 0, 0, 0, 0, 0, 0, 0, 0,\n",
       "       0, 0, 0, 0, 0, 0, 0, 0, 0, 0, 0, 0, 0, 0, 0, 0, 0, 0, 1, 0, 0, 0, 0,\n",
       "       0, 0, 0, 0, 0, 0, 0, 0, 0, 0, 0, 0, 0, 0, 0, 0, 1, 1, 0, 0, 0, 0, 0,\n",
       "       0, 0, 0, 0, 0, 0, 0, 0, 0, 0, 0, 0, 0, 0, 0, 0, 0, 0, 0, 0, 0, 0, 0,\n",
       "       0, 0, 0, 0, 0, 1, 0, 1, 0, 0, 0, 0, 1, 0, 0, 0, 0, 0, 0, 0, 0, 0, 0,\n",
       "       0, 0, 0, 0, 0, 0, 0, 0, 0, 0, 0, 0, 0, 0, 0, 0, 0, 1, 0, 0, 0, 0, 0,\n",
       "       0, 0, 0, 0, 0, 0, 0, 0, 0, 0, 0, 0, 0, 0, 0, 1, 0, 0, 0, 0, 0, 0, 0,\n",
       "       0, 0, 0, 0, 1, 0, 0, 0, 1, 0, 0, 0, 0, 0, 0, 0, 0, 0, 0, 1, 1, 0, 0,\n",
       "       0, 0, 0, 1, 0, 0, 0, 0, 1, 0, 0, 1, 0, 0, 0, 0, 0, 0, 0, 0, 0, 0, 0,\n",
       "       0, 0, 0, 0, 0, 0, 0, 0, 0, 0, 0, 0, 1, 0, 0, 0, 0, 0, 1, 0, 0, 0, 0,\n",
       "       0, 0, 0, 0, 0, 0, 0, 0, 0, 0, 0, 0, 1, 0, 0, 0, 1, 0, 0, 1, 0, 0, 0,\n",
       "       0, 0, 0, 1, 0, 1, 0, 0, 0, 0, 0, 0, 0, 0, 0, 0])"
      ]
     },
     "execution_count": 136,
     "metadata": {},
     "output_type": "execute_result"
    }
   ],
   "source": [
    "y_test"
   ]
  },
  {
   "cell_type": "code",
   "execution_count": 107,
   "metadata": {
    "collapsed": false
   },
   "outputs": [
    {
     "data": {
      "text/plain": [
       "0.5"
      ]
     },
     "execution_count": 107,
     "metadata": {},
     "output_type": "execute_result"
    }
   ],
   "source": [
    "roc_auc_score(y_train, preds_train)"
   ]
  },
  {
   "cell_type": "code",
   "execution_count": 154,
   "metadata": {
    "collapsed": false
   },
   "outputs": [
    {
     "data": {
      "text/plain": [
       "(871L, 9600L, 1L)"
      ]
     },
     "execution_count": 154,
     "metadata": {},
     "output_type": "execute_result"
    }
   ],
   "source": [
    "X_test_1d = X_test.reshape((len(X_test), 16*600, 1))\n",
    "X_train_1d = X_train.reshape((len(X_train), 16*600, 1))\n",
    "X_train_1d.shape"
   ]
  },
  {
   "cell_type": "code",
   "execution_count": null,
   "metadata": {
    "collapsed": false
   },
   "outputs": [],
   "source": []
  },
  {
   "cell_type": "code",
   "execution_count": 109,
   "metadata": {
    "collapsed": false
   },
   "outputs": [],
   "source": [
    "from keras.layers import Convolution1D, AveragePooling1D"
   ]
  },
  {
   "cell_type": "code",
   "execution_count": 110,
   "metadata": {
    "collapsed": false
   },
   "outputs": [],
   "source": [
    "model = Sequential()\n",
    "\n",
    "model.add(Convolution1D(nb_filter=6,\n",
    "                        filter_length=3,\n",
    "                        border_mode=\"valid\",\n",
    "                        activation=\"relu\", \n",
    "                        input_shape=(9600, 1)))\n",
    "model.add(AveragePooling1D(pool_length=2))\n",
    "model.add(Flatten())\n",
    "model.add(Dense(512, activation=\"relu\"))\n",
    "model.add(Dropout(0.9))\n",
    "model.add(Dense(1, init='normal', activation='sigmoid'))\n",
    "model.compile(loss='binary_crossentropy', optimizer='adam', metrics=['accuracy'])"
   ]
  },
  {
   "cell_type": "code",
   "execution_count": 144,
   "metadata": {
    "collapsed": false
   },
   "outputs": [
    {
     "name": "stdout",
     "output_type": "stream",
     "text": [
      "Train on 871 samples, validate on 430 samples\n",
      "Epoch 1/50\n",
      "871/871 [==============================] - 0s - loss: 0.0402 - acc: 0.9851 - val_loss: 0.6439 - val_acc: 0.8767\n",
      "Epoch 2/50\n",
      "871/871 [==============================] - 0s - loss: 0.0458 - acc: 0.9828 - val_loss: 0.6675 - val_acc: 0.8767\n",
      "Epoch 3/50\n",
      "871/871 [==============================] - 0s - loss: 0.0380 - acc: 0.9874 - val_loss: 0.7219 - val_acc: 0.8791\n",
      "Epoch 4/50\n",
      "871/871 [==============================] - 0s - loss: 0.0356 - acc: 0.9885 - val_loss: 0.7017 - val_acc: 0.8767\n",
      "Epoch 5/50\n",
      "871/871 [==============================] - 0s - loss: 0.0360 - acc: 0.9885 - val_loss: 0.7840 - val_acc: 0.8860\n",
      "Epoch 6/50\n",
      "871/871 [==============================] - 0s - loss: 0.0363 - acc: 0.9851 - val_loss: 0.6832 - val_acc: 0.8744\n",
      "Epoch 7/50\n",
      "871/871 [==============================] - 0s - loss: 0.0360 - acc: 0.9885 - val_loss: 0.7700 - val_acc: 0.8860\n",
      "Epoch 8/50\n",
      "871/871 [==============================] - 0s - loss: 0.0306 - acc: 0.9885 - val_loss: 0.7629 - val_acc: 0.8767\n",
      "Epoch 9/50\n",
      "871/871 [==============================] - 0s - loss: 0.0364 - acc: 0.9897 - val_loss: 0.7813 - val_acc: 0.8837\n",
      "Epoch 10/50\n",
      "871/871 [==============================] - 0s - loss: 0.0431 - acc: 0.9828 - val_loss: 0.7250 - val_acc: 0.8744\n",
      "Epoch 11/50\n",
      "871/871 [==============================] - 0s - loss: 0.0369 - acc: 0.9874 - val_loss: 0.7110 - val_acc: 0.8744\n",
      "Epoch 12/50\n",
      "871/871 [==============================] - 0s - loss: 0.0400 - acc: 0.9874 - val_loss: 0.7680 - val_acc: 0.8860\n",
      "Epoch 13/50\n",
      "871/871 [==============================] - 0s - loss: 0.0333 - acc: 0.9908 - val_loss: 0.7283 - val_acc: 0.8767\n",
      "Epoch 14/50\n",
      "871/871 [==============================] - 0s - loss: 0.0346 - acc: 0.9908 - val_loss: 0.7282 - val_acc: 0.8698\n",
      "Epoch 15/50\n",
      "871/871 [==============================] - 0s - loss: 0.0313 - acc: 0.9897 - val_loss: 0.8545 - val_acc: 0.8860\n",
      "Epoch 16/50\n",
      "871/871 [==============================] - 0s - loss: 0.0350 - acc: 0.9885 - val_loss: 0.7232 - val_acc: 0.8651\n",
      "Epoch 17/50\n",
      "871/871 [==============================] - 0s - loss: 0.0341 - acc: 0.9874 - val_loss: 0.9015 - val_acc: 0.8884\n",
      "Epoch 18/50\n",
      "871/871 [==============================] - 0s - loss: 0.0282 - acc: 0.9897 - val_loss: 0.8666 - val_acc: 0.8837\n",
      "Epoch 19/50\n",
      "871/871 [==============================] - 0s - loss: 0.0361 - acc: 0.9862 - val_loss: 0.7531 - val_acc: 0.8698\n",
      "Epoch 20/50\n",
      "871/871 [==============================] - 0s - loss: 0.0290 - acc: 0.9920 - val_loss: 0.9094 - val_acc: 0.8860\n",
      "Epoch 21/50\n",
      "871/871 [==============================] - 0s - loss: 0.0319 - acc: 0.9897 - val_loss: 0.8951 - val_acc: 0.8837\n",
      "Epoch 22/50\n",
      "871/871 [==============================] - 0s - loss: 0.0259 - acc: 0.9920 - val_loss: 0.8951 - val_acc: 0.8837\n"
     ]
    },
    {
     "data": {
      "text/plain": [
       "<keras.callbacks.History at 0x11cfd5828>"
      ]
     },
     "execution_count": 144,
     "metadata": {},
     "output_type": "execute_result"
    }
   ],
   "source": [
    "model.fit(X_train_1d, y_train, nb_epoch=50, validation_data=(X_test_1d, y_test), callbacks=[earlystop])"
   ]
  },
  {
   "cell_type": "code",
   "execution_count": 147,
   "metadata": {
    "collapsed": false
   },
   "outputs": [
    {
     "name": "stdout",
     "output_type": "stream",
     "text": [
      "352/430 [=======================>......] - ETA: 0s"
     ]
    }
   ],
   "source": [
    "preds_train_1d = model.predict_classes(X_train_1d)\n",
    "preds_1d = model.predict_classes(X_test_1d)"
   ]
  },
  {
   "cell_type": "code",
   "execution_count": 145,
   "metadata": {
    "collapsed": false
   },
   "outputs": [
    {
     "data": {
      "text/plain": [
       "0.82524271844660202"
      ]
     },
     "execution_count": 145,
     "metadata": {},
     "output_type": "execute_result"
    }
   ],
   "source": [
    "roc_auc_score(y_train, preds_train_1d)"
   ]
  },
  {
   "cell_type": "code",
   "execution_count": 148,
   "metadata": {
    "collapsed": false
   },
   "outputs": [
    {
     "data": {
      "text/plain": [
       "0.49479166666666669"
      ]
     },
     "execution_count": 148,
     "metadata": {},
     "output_type": "execute_result"
    }
   ],
   "source": [
    "roc_auc_score(y_test, preds_1d)"
   ]
  },
  {
   "cell_type": "code",
   "execution_count": 149,
   "metadata": {
    "collapsed": true
   },
   "outputs": [],
   "source": [
    "from keras.layers import LSTM"
   ]
  },
  {
   "cell_type": "code",
   "execution_count": 156,
   "metadata": {
    "collapsed": true
   },
   "outputs": [],
   "source": [
    "model = Sequential()\n",
    "model.add(LSTM(4, input_shape=(9600, 1)))\n",
    "model.add(Dense(1))\n",
    "model.compile(loss='binary_crossentropy', optimizer='adam', metrics=['accuracy'])"
   ]
  },
  {
   "cell_type": "code",
   "execution_count": 157,
   "metadata": {
    "collapsed": false
   },
   "outputs": [
    {
     "name": "stdout",
     "output_type": "stream",
     "text": [
      "Train on 871 samples, validate on 430 samples\n",
      "Epoch 1/50\n",
      "871/871 [==============================] - 303s - loss: 0.4320 - acc: 0.8817 - val_loss: 0.3397 - val_acc: 0.8930\n",
      "Epoch 2/50\n",
      "871/871 [==============================] - 310s - loss: 0.3647 - acc: 0.8817 - val_loss: 0.3400 - val_acc: 0.8930\n",
      "Epoch 3/50\n",
      "871/871 [==============================] - 311s - loss: 0.3637 - acc: 0.8817 - val_loss: 0.3399 - val_acc: 0.8930\n",
      "Epoch 4/50\n",
      "871/871 [==============================] - 308s - loss: 0.3647 - acc: 0.8817 - val_loss: 0.3396 - val_acc: 0.8930\n",
      "Epoch 5/50\n",
      "871/871 [==============================] - 303s - loss: 0.3658 - acc: 0.8817 - val_loss: 0.3396 - val_acc: 0.8930\n",
      "Epoch 6/50\n",
      "871/871 [==============================] - 308s - loss: 0.3657 - acc: 0.8817 - val_loss: 0.3395 - val_acc: 0.8930\n",
      "Epoch 7/50\n",
      "871/871 [==============================] - 309s - loss: 0.3654 - acc: 0.8817 - val_loss: 0.3404 - val_acc: 0.8930\n",
      "Epoch 8/50\n",
      "871/871 [==============================] - 307s - loss: 0.3642 - acc: 0.8817 - val_loss: 0.3399 - val_acc: 0.8930\n",
      "Epoch 9/50\n",
      "871/871 [==============================] - 309s - loss: 0.3657 - acc: 0.8817 - val_loss: 0.3401 - val_acc: 0.8930\n",
      "Epoch 10/50\n",
      "871/871 [==============================] - 307s - loss: 0.3643 - acc: 0.8817 - val_loss: 0.3410 - val_acc: 0.8930\n",
      "Epoch 11/50\n",
      "871/871 [==============================] - 308s - loss: 0.3646 - acc: 0.8817 - val_loss: 0.3396 - val_acc: 0.8930\n",
      "Epoch 12/50\n",
      "871/871 [==============================] - 307s - loss: 0.3644 - acc: 0.8817 - val_loss: 0.3400 - val_acc: 0.8930\n",
      "Epoch 13/50\n",
      "871/871 [==============================] - 302s - loss: 0.3645 - acc: 0.8817 - val_loss: 0.3396 - val_acc: 0.8930\n",
      "Epoch 14/50\n",
      "871/871 [==============================] - 308s - loss: 0.3646 - acc: 0.8817 - val_loss: 0.3397 - val_acc: 0.8930\n",
      "Epoch 15/50\n",
      "871/871 [==============================] - 311s - loss: 0.3652 - acc: 0.8817 - val_loss: 0.3401 - val_acc: 0.8930\n",
      "Epoch 16/50\n",
      "871/871 [==============================] - 314s - loss: 0.3640 - acc: 0.8817 - val_loss: 0.3401 - val_acc: 0.8930\n",
      "Epoch 17/50\n",
      "871/871 [==============================] - 314s - loss: 0.3651 - acc: 0.8817 - val_loss: 0.3401 - val_acc: 0.8930\n",
      "Epoch 18/50\n",
      "871/871 [==============================] - 315s - loss: 0.3645 - acc: 0.8817 - val_loss: 0.3397 - val_acc: 0.8930\n",
      "Epoch 19/50\n",
      "871/871 [==============================] - 314s - loss: 0.3643 - acc: 0.8817 - val_loss: 0.3400 - val_acc: 0.8930\n",
      "Epoch 20/50\n",
      "871/871 [==============================] - 314s - loss: 0.3656 - acc: 0.8817 - val_loss: 0.3404 - val_acc: 0.8930\n",
      "Epoch 21/50\n",
      "871/871 [==============================] - 314s - loss: 0.3641 - acc: 0.8817 - val_loss: 0.3405 - val_acc: 0.8930\n",
      "Epoch 22/50\n",
      "871/871 [==============================] - 309s - loss: 0.3637 - acc: 0.8817 - val_loss: 0.3410 - val_acc: 0.8930\n",
      "Epoch 23/50\n",
      "871/871 [==============================] - 310s - loss: 0.3641 - acc: 0.8817 - val_loss: 0.3407 - val_acc: 0.8930\n",
      "Epoch 24/50\n",
      "871/871 [==============================] - 311s - loss: 0.3644 - acc: 0.8817 - val_loss: 0.3395 - val_acc: 0.8930\n",
      "Epoch 25/50\n",
      "871/871 [==============================] - 310s - loss: 0.3670 - acc: 0.8817 - val_loss: 0.3397 - val_acc: 0.8930\n",
      "Epoch 26/50\n",
      "871/871 [==============================] - 312s - loss: 0.3638 - acc: 0.8817 - val_loss: 0.3411 - val_acc: 0.8930\n",
      "Epoch 27/50\n",
      "871/871 [==============================] - 311s - loss: 0.3632 - acc: 0.8817 - val_loss: 0.3395 - val_acc: 0.8930\n",
      "Epoch 28/50\n",
      "871/871 [==============================] - 309s - loss: 0.3652 - acc: 0.8817 - val_loss: 0.3395 - val_acc: 0.8930\n",
      "Epoch 29/50\n",
      "871/871 [==============================] - 299s - loss: 0.3646 - acc: 0.8817 - val_loss: 0.3402 - val_acc: 0.8930\n",
      "Epoch 30/50\n",
      "871/871 [==============================] - 300s - loss: 0.3641 - acc: 0.8817 - val_loss: 0.3404 - val_acc: 0.8930\n",
      "Epoch 31/50\n",
      "871/871 [==============================] - 305s - loss: 0.3636 - acc: 0.8817 - val_loss: 0.3401 - val_acc: 0.8930\n",
      "Epoch 32/50\n",
      "871/871 [==============================] - 304s - loss: 0.3642 - acc: 0.8817 - val_loss: 0.3395 - val_acc: 0.8930\n",
      "Epoch 33/50\n",
      "871/871 [==============================] - 305s - loss: 0.3641 - acc: 0.8817 - val_loss: 0.3407 - val_acc: 0.8930\n",
      "Epoch 34/50\n",
      "871/871 [==============================] - 302s - loss: 0.3641 - acc: 0.8817 - val_loss: 0.3395 - val_acc: 0.8930\n",
      "Epoch 35/50\n",
      "871/871 [==============================] - 304s - loss: 0.3640 - acc: 0.8817 - val_loss: 0.3410 - val_acc: 0.8930\n",
      "Epoch 36/50\n",
      "871/871 [==============================] - 302s - loss: 0.3643 - acc: 0.8817 - val_loss: 0.3400 - val_acc: 0.8930\n",
      "Epoch 37/50\n",
      "871/871 [==============================] - 304s - loss: 0.3643 - acc: 0.8817 - val_loss: 0.3396 - val_acc: 0.8930\n",
      "Epoch 38/50\n",
      "871/871 [==============================] - 303s - loss: 0.3651 - acc: 0.8817 - val_loss: 0.3409 - val_acc: 0.8930\n",
      "Epoch 39/50\n",
      "871/871 [==============================] - 305s - loss: 0.3641 - acc: 0.8817 - val_loss: 0.3399 - val_acc: 0.8930\n",
      "Epoch 40/50\n",
      "871/871 [==============================] - 302s - loss: 0.3655 - acc: 0.8817 - val_loss: 0.3395 - val_acc: 0.8930\n",
      "Epoch 41/50\n",
      "871/871 [==============================] - 300s - loss: 0.3639 - acc: 0.8817 - val_loss: 0.3402 - val_acc: 0.8930\n",
      "Epoch 42/50\n",
      "871/871 [==============================] - 303s - loss: 0.3637 - acc: 0.8817 - val_loss: 0.3402 - val_acc: 0.8930\n",
      "Epoch 43/50\n",
      "871/871 [==============================] - 302s - loss: 0.3635 - acc: 0.8817 - val_loss: 0.3402 - val_acc: 0.8930\n",
      "Epoch 44/50\n",
      "871/871 [==============================] - 301s - loss: 0.3635 - acc: 0.8817 - val_loss: 0.3403 - val_acc: 0.8930\n",
      "Epoch 45/50\n",
      "871/871 [==============================] - 291s - loss: 0.3652 - acc: 0.8817 - val_loss: 0.3398 - val_acc: 0.8930\n",
      "Epoch 46/50\n",
      "871/871 [==============================] - 295s - loss: 0.3652 - acc: 0.8817 - val_loss: 0.3397 - val_acc: 0.8930\n",
      "Epoch 47/50\n",
      "871/871 [==============================] - 293s - loss: 0.3638 - acc: 0.8817 - val_loss: 0.3396 - val_acc: 0.8930\n",
      "Epoch 48/50\n",
      "871/871 [==============================] - 294s - loss: 0.3640 - acc: 0.8817 - val_loss: 0.3410 - val_acc: 0.8930\n",
      "Epoch 49/50\n",
      "871/871 [==============================] - 292s - loss: 0.3642 - acc: 0.8817 - val_loss: 0.3397 - val_acc: 0.8930\n"
     ]
    },
    {
     "data": {
      "text/plain": [
       "<keras.callbacks.History at 0x1231e8908>"
      ]
     },
     "execution_count": 157,
     "metadata": {},
     "output_type": "execute_result"
    }
   ],
   "source": [
    "model.fit(X_train_1d, y_train, nb_epoch=50, validation_data=(X_test_1d, y_test), callbacks=[earlystop])"
   ]
  },
  {
   "cell_type": "code",
   "execution_count": null,
   "metadata": {
    "collapsed": true
   },
   "outputs": [],
   "source": []
  }
 ],
 "metadata": {
  "kernelspec": {
   "display_name": "Python 2",
   "language": "python",
   "name": "python2"
  },
  "language_info": {
   "codemirror_mode": {
    "name": "ipython",
    "version": 2
   },
   "file_extension": ".py",
   "mimetype": "text/x-python",
   "name": "python",
   "nbconvert_exporter": "python",
   "pygments_lexer": "ipython2",
   "version": "2.7.11"
  }
 },
 "nbformat": 4,
 "nbformat_minor": 0
}
