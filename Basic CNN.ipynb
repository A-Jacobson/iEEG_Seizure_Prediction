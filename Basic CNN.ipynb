{
 "cells": [
  {
   "cell_type": "code",
   "execution_count": 44,
   "metadata": {
    "collapsed": false,
    "scrolled": true
   },
   "outputs": [],
   "source": [
    "from data_utils import load_features\n",
    "from transforms import *\n",
    "import matplotlib.pyplot as plt\n",
    "import seaborn as sns\n",
    "from sklearn.preprocessing import StandardScaler\n",
    "from sklearn.cross_validation import train_test_split\n",
    "from imblearn.over_sampling import SMOTE\n",
    "from keras.models import Sequential\n",
    "from keras.layers import Convolution2D, Dense, Dropout, Flatten, MaxPooling2D, Activation\n",
    "from keras.layers import AtrousConvolution2D, AveragePooling2D, LeakyReLU, PReLU\n",
    "from keras.callbacks import EarlyStopping\n",
    "from sklearn.metrics import confusion_matrix\n",
    "import numpy as np\n",
    "from sklearn.metrics import roc_auc_score\n",
    "from keras.models import load_model\n",
    "from keras.regularizers import l2\n",
    "import os\n",
    "%matplotlib inline\n",
    "%load_ext autoreload\n",
    "%autoreload 2\n",
    "sns.set_style(\"white\")"
   ]
  },
  {
   "cell_type": "markdown",
   "metadata": {},
   "source": [
    "## Load resampled time domain features"
   ]
  },
  {
   "cell_type": "code",
   "execution_count": 456,
   "metadata": {
    "collapsed": false
   },
   "outputs": [
    {
     "name": "stdout",
     "output_type": "stream",
     "text": [
      "Wall time: 18.6 s\n"
     ]
    }
   ],
   "source": [
    "patient = 1\n",
    "features = [LPF(5.0), Resample(1200)]\n",
    "\n",
    "%time X, y, files = load_features('train_{}'.format(patient), features)"
   ]
  },
  {
   "cell_type": "code",
   "execution_count": 457,
   "metadata": {
    "collapsed": false
   },
   "outputs": [
    {
     "name": "stdout",
     "output_type": "stream",
     "text": [
      "(1267L, 16L, 1200L)\n"
     ]
    }
   ],
   "source": [
    "print X.shape\n",
    "X = X.reshape(X.shape[0], X.shape[1]*X.shape[2])"
   ]
  },
  {
   "cell_type": "markdown",
   "metadata": {},
   "source": [
    "## 70/30 cv split"
   ]
  },
  {
   "cell_type": "code",
   "execution_count": 461,
   "metadata": {
    "collapsed": false
   },
   "outputs": [],
   "source": [
    "X_train, X_test, y_train, y_test = train_test_split(X, y, test_size=0.50)"
   ]
  },
  {
   "cell_type": "markdown",
   "metadata": {},
   "source": [
    "## Scale to zero mean and unit variance"
   ]
  },
  {
   "cell_type": "code",
   "execution_count": 462,
   "metadata": {
    "collapsed": true
   },
   "outputs": [],
   "source": [
    "scaler = StandardScaler()\n",
    "X_train = scaler.fit_transform(X_train)\n",
    "X_test = scaler.transform(X_test)"
   ]
  },
  {
   "cell_type": "markdown",
   "metadata": {},
   "source": [
    "## Data Augmentation to balance classes with smote"
   ]
  },
  {
   "cell_type": "code",
   "execution_count": 463,
   "metadata": {
    "collapsed": true
   },
   "outputs": [],
   "source": [
    "sm = SMOTE(kind='regular')\n",
    "# X_train, y_train = sm.fit_sample(X_train, y_train)"
   ]
  },
  {
   "cell_type": "markdown",
   "metadata": {},
   "source": [
    "## Reshape to (N, channels, samples, 1) for 2d convnet"
   ]
  },
  {
   "cell_type": "code",
   "execution_count": 464,
   "metadata": {
    "collapsed": false
   },
   "outputs": [],
   "source": [
    "X_train_2d = X_train.reshape((len(X_train), 16, 1200, 1))\n",
    "X_test_2d = X_test.reshape((len(X_test), 16, 1200, 1))"
   ]
  },
  {
   "cell_type": "markdown",
   "metadata": {},
   "source": [
    "## Build simple 2d convnet"
   ]
  },
  {
   "cell_type": "code",
   "execution_count": 491,
   "metadata": {
    "collapsed": false
   },
   "outputs": [],
   "source": [
    "cnn = Sequential()\n",
    "cnn.add(Convolution2D(32, 3, 1, border_mode='valid', input_shape=(16, 1200, 1)))\n",
    "cnn.add(Activation('relu'))\n",
    "cnn.add(PReLU())\n",
    "cnn.add(AveragePooling2D(pool_size=(2, 1)))\n",
    "cnn.add(Convolution2D(32, 3, 1, border_mode='valid'))\n",
    "cnn.add(Activation('relu'))\n",
    "cnn.add(PReLU())\n",
    "cnn.add(AveragePooling2D(pool_size=(2, 1)))\n",
    "cnn.add(Flatten())\n",
    "cnn.add(Dense(512, init='he_normal'))\n",
    "cnn.add(PReLU())\n",
    "cnn.add(Dropout(0.5))\n",
    "cnn.add(Dense(512, init='he_normal'))\n",
    "cnn.add(PReLU())\n",
    "cnn.add(Dropout(0.5))\n",
    "cnn.add(Dense(1, init='he_normal', activation='sigmoid'))\n",
    "cnn.compile(loss='binary_crossentropy', optimizer='adam', metrics=['accuracy'])\n",
    "earlystop = EarlyStopping(patience=4)"
   ]
  },
  {
   "cell_type": "code",
   "execution_count": 500,
   "metadata": {
    "collapsed": false
   },
   "outputs": [
    {
     "name": "stdout",
     "output_type": "stream",
     "text": [
      "Train on 633 samples, validate on 634 samples\n",
      "Epoch 1/10\n",
      "633/633 [==============================] - 0s - loss: 7.9188e-04 - acc: 1.0000 - val_loss: 1.1706 - val_acc: 0.8849\n",
      "Epoch 2/10\n",
      "633/633 [==============================] - 0s - loss: 8.1325e-04 - acc: 1.0000 - val_loss: 1.2070 - val_acc: 0.8833\n",
      "Epoch 3/10\n",
      "633/633 [==============================] - 0s - loss: 8.3731e-04 - acc: 1.0000 - val_loss: 1.3205 - val_acc: 0.8849\n",
      "Epoch 4/10\n",
      "633/633 [==============================] - 0s - loss: 0.0011 - acc: 1.0000 - val_loss: 1.3880 - val_acc: 0.8880\n",
      "Epoch 5/10\n",
      "633/633 [==============================] - 0s - loss: 6.6515e-04 - acc: 1.0000 - val_loss: 1.4238 - val_acc: 0.8880\n",
      "Epoch 6/10\n",
      "633/633 [==============================] - 0s - loss: 5.4181e-04 - acc: 1.0000 - val_loss: 1.4369 - val_acc: 0.8880\n"
     ]
    },
    {
     "data": {
      "text/plain": [
       "<keras.callbacks.History at 0x195dc5f60>"
      ]
     },
     "execution_count": 500,
     "metadata": {},
     "output_type": "execute_result"
    }
   ],
   "source": [
    "cnn.fit(X_train_2d, y_train, nb_epoch=10, batch_size=256, validation_data=(X_test_2d, y_test), callbacks=[earlystop])"
   ]
  },
  {
   "cell_type": "code",
   "execution_count": 505,
   "metadata": {
    "collapsed": false
   },
   "outputs": [
    {
     "name": "stdout",
     "output_type": "stream",
     "text": [
      "608/633 [===========================>..] - ETA: 0s"
     ]
    }
   ],
   "source": [
    "preds = cnn.predict_classes(X_test_2d)\n",
    "preds_train = cnn.predict_classes(X_train_2d)"
   ]
  },
  {
   "cell_type": "markdown",
   "metadata": {},
   "source": [
    "## Confusion matrix and ROC score train"
   ]
  },
  {
   "cell_type": "code",
   "execution_count": 506,
   "metadata": {
    "collapsed": false
   },
   "outputs": [
    {
     "name": "stdout",
     "output_type": "stream",
     "text": [
      "AUC: 1.000000\n"
     ]
    },
    {
     "data": {
      "image/png": "[encoded data removed]",
      "text/plain": [
       "<matplotlib.figure.Figure at 0x19626cba8>"
      ]
     },
     "metadata": {},
     "output_type": "display_data"
    }
   ],
   "source": [
    "sns.heatmap(confusion_matrix(y_train, preds_train), annot=True, fmt='d')\n",
    "print \"AUC: %f\" % (roc_auc_score(y_train, preds_train))"
   ]
  },
  {
   "cell_type": "markdown",
   "metadata": {},
   "source": [
    "## Confusion matrix and ROC score trest"
   ]
  },
  {
   "cell_type": "code",
   "execution_count": 507,
   "metadata": {
    "collapsed": false
   },
   "outputs": [
    {
     "name": "stdout",
     "output_type": "stream",
     "text": [
      "AUC: 0.498230\n"
     ]
    },
    {
     "data": {
      "image/png": "[encoded data removed]",
      "text/plain": [
       "<matplotlib.figure.Figure at 0x196313fd0>"
      ]
     },
     "metadata": {},
     "output_type": "display_data"
    }
   ],
   "source": [
    "sns.heatmap(confusion_matrix(y_test, preds), annot=True, fmt='d')\n",
    "print \"AUC: %f\" % (roc_auc_score(y_test, preds))"
   ]
  },
  {
   "cell_type": "markdown",
   "metadata": {},
   "source": [
    "## Load current best model\n",
    "cnn only trained for 3 epochs"
   ]
  },
  {
   "cell_type": "code",
   "execution_count": 508,
   "metadata": {
    "collapsed": true
   },
   "outputs": [],
   "source": [
    "cnn.save('cnn_artorious_interp_600_adam_3.h5')"
   ]
  },
  {
   "cell_type": "code",
   "execution_count": 509,
   "metadata": {
    "collapsed": false
   },
   "outputs": [],
   "source": [
    "cnn2 = load_model(os.path.join('trained_models', 'auc65_cnn_artorious_interp_600_adam_2.h5'))"
   ]
  },
  {
   "cell_type": "code",
   "execution_count": 137,
   "metadata": {
    "collapsed": false
   },
   "outputs": [
    {
     "name": "stdout",
     "output_type": "stream",
     "text": [
      "2976/3040 [============================>.] - ETA: 0s"
     ]
    }
   ],
   "source": [
    "preds2 = cnn2.predict_classes(X_test_2d)\n",
    "preds2_train = cnn2.predict_classes(X_train_2d)"
   ]
  },
  {
   "cell_type": "code",
   "execution_count": 139,
   "metadata": {
    "collapsed": false
   },
   "outputs": [
    {
     "name": "stdout",
     "output_type": "stream",
     "text": [
      "AUC: 0.592434\n"
     ]
    },
    {
     "data": {
      "image/png": "[encoded data removed]",
      "text/plain": [
       "<matplotlib.figure.Figure at 0x1340b6048>"
      ]
     },
     "metadata": {},
     "output_type": "display_data"
    }
   ],
   "source": [
    "sns.heatmap(confusion_matrix(y_train, preds2_train), annot=True, fmt='d')\n",
    "print \"AUC: %f\" % (roc_auc_score(y_train, preds2_train))"
   ]
  },
  {
   "cell_type": "code",
   "execution_count": 140,
   "metadata": {
    "collapsed": false
   },
   "outputs": [
    {
     "name": "stdout",
     "output_type": "stream",
     "text": [
      "AUC: 0.470581\n"
     ]
    },
    {
     "data": {
      "image/png": "[encoded data removed]",
      "text/plain": [
       "<matplotlib.figure.Figure at 0x13447f9e8>"
      ]
     },
     "metadata": {},
     "output_type": "display_data"
    }
   ],
   "source": [
    "sns.heatmap(confusion_matrix(y_test, preds2), annot=True, fmt='d')\n",
    "print \"AUC: %f\" % (roc_auc_score(y_test, preds2))"
   ]
  },
  {
   "cell_type": "code",
   "execution_count": 238,
   "metadata": {
    "collapsed": false
   },
   "outputs": [
    {
     "name": "stdout",
     "output_type": "stream",
     "text": [
      "Wall time: 11.8 s\n"
     ]
    }
   ],
   "source": [
    "%time X, files = load_features('test_{}'.format(patient), features)\n",
    "X_2d = X.reshape((len(X), 16, 600, 1))"
   ]
  },
  {
   "cell_type": "code",
   "execution_count": 239,
   "metadata": {
    "collapsed": false
   },
   "outputs": [
    {
     "name": "stdout",
     "output_type": "stream",
     "text": [
      "2208/2227 [============================>.] - ETA: 0s"
     ]
    }
   ],
   "source": [
    "preds = np.squeeze(cnn2.predict_classes(X_2d))"
   ]
  },
  {
   "cell_type": "code",
   "execution_count": 240,
   "metadata": {
    "collapsed": false
   },
   "outputs": [],
   "source": [
    "from data_utils import preds_to_df, preds_to_csv\n",
    "preds_1 = preds_to_df(preds, files)\n",
    "preds_to_csv(preds, files, 'auc65_cnn_artorious_interp_re600_adam_2.csv')"
   ]
  },
  {
   "cell_type": "code",
   "execution_count": 241,
   "metadata": {
    "collapsed": false
   },
   "outputs": [
    {
     "data": {
      "text/plain": [
       "4"
      ]
     },
     "execution_count": 241,
     "metadata": {},
     "output_type": "execute_result"
    }
   ],
   "source": [
    "np.squeeze(preds).sum()"
   ]
  },
  {
   "cell_type": "code",
   "execution_count": 242,
   "metadata": {
    "collapsed": true
   },
   "outputs": [],
   "source": [
    "from data_utils import get_skipped"
   ]
  },
  {
   "cell_type": "code",
   "execution_count": 247,
   "metadata": {
    "collapsed": false
   },
   "outputs": [],
   "source": [
    "get_skipped('test_1').to_csv('skipped_1.csv', index=False)\n",
    "get_skipped('test_2').to_csv('skipped_2.csv', index=False)\n",
    "get_skipped('test_3').to_csv('skipped_3.csv', index=False)"
   ]
  },
  {
   "cell_type": "code",
   "execution_count": 248,
   "metadata": {
    "collapsed": true
   },
   "outputs": [],
   "source": [
    "from glob import glob"
   ]
  },
  {
   "cell_type": "code",
   "execution_count": 303,
   "metadata": {
    "collapsed": false
   },
   "outputs": [],
   "source": [
    "pred_files = glob(os.path.join('predictions', '*'))"
   ]
  },
  {
   "cell_type": "code",
   "execution_count": 257,
   "metadata": {
    "collapsed": true
   },
   "outputs": [],
   "source": [
    "pred_files = [f for f in pred_files if 'fft' not in f]"
   ]
  },
  {
   "cell_type": "code",
   "execution_count": 261,
   "metadata": {
    "collapsed": true
   },
   "outputs": [],
   "source": [
    "import pandas as pd"
   ]
  },
  {
   "cell_type": "code",
   "execution_count": 292,
   "metadata": {
    "collapsed": false
   },
   "outputs": [],
   "source": [
    "dfs = [pd.read_csv(f) for f in pred_files]"
   ]
  },
  {
   "cell_type": "code",
   "execution_count": 270,
   "metadata": {
    "collapsed": false
   },
   "outputs": [],
   "source": [
    "sub = pd.concat(dfs)"
   ]
  },
  {
   "cell_type": "code",
   "execution_count": 273,
   "metadata": {
    "collapsed": false
   },
   "outputs": [],
   "source": [
    "sub.to_csv('conv_sub.csv', index=False)"
   ]
  },
  {
   "cell_type": "code",
   "execution_count": 304,
   "metadata": {
    "collapsed": true
   },
   "outputs": [],
   "source": [
    "pred_files = [f for f in pred_files if ('xgboost' in f) or ('skipped' in f)]"
   ]
  },
  {
   "cell_type": "code",
   "execution_count": 306,
   "metadata": {
    "collapsed": false
   },
   "outputs": [],
   "source": [
    "dfs = [pd.read_csv(f) for f in pred_files]"
   ]
  },
  {
   "cell_type": "code",
   "execution_count": 305,
   "metadata": {
    "collapsed": false
   },
   "outputs": [
    {
     "data": {
      "text/plain": [
       "['predictions\\\\corr_xgboost_1.csv',\n",
       " 'predictions\\\\corr_xgboost_2.csv',\n",
       " 'predictions\\\\corr_xgboost_3.csv',\n",
       " 'predictions\\\\skipped_1.csv',\n",
       " 'predictions\\\\skipped_2.csv',\n",
       " 'predictions\\\\skipped_3.csv']"
      ]
     },
     "execution_count": 305,
     "metadata": {},
     "output_type": "execute_result"
    }
   ],
   "source": [
    "pred_files"
   ]
  },
  {
   "cell_type": "code",
   "execution_count": 308,
   "metadata": {
    "collapsed": false
   },
   "outputs": [],
   "source": [
    "sub2 = pd.concat(dfs)"
   ]
  },
  {
   "cell_type": "code",
   "execution_count": 310,
   "metadata": {
    "collapsed": false
   },
   "outputs": [],
   "source": [
    "sub2.to_csv('xgb_corr_sub.csv', index=False)"
   ]
  },
  {
   "cell_type": "code",
   "execution_count": null,
   "metadata": {
    "collapsed": true
   },
   "outputs": [],
   "source": []
  }
 ],
 "metadata": {
  "kernelspec": {
   "display_name": "Python 2",
   "language": "python",
   "name": "python2"
  },
  "language_info": {
   "codemirror_mode": {
    "name": "ipython",
    "version": 2
   },
   "file_extension": ".py",
   "mimetype": "text/x-python",
   "name": "python",
   "nbconvert_exporter": "python",
   "pygments_lexer": "ipython2",
   "version": "2.7.11"
  }
 },
 "nbformat": 4,
 "nbformat_minor": 0
}
