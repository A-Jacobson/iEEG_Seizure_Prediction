{
 "cells": [
  {
   "cell_type": "code",
   "execution_count": 301,
   "metadata": {
    "collapsed": false,
    "scrolled": true
   },
   "outputs": [],
   "source": [
    "from data_utils import load_features\n",
    "from transforms import *\n",
    "import matplotlib.pyplot as plt\n",
    "import seaborn as sns\n",
    "from sklearn.preprocessing import StandardScaler\n",
    "from sklearn.cross_validation import train_test_split\n",
    "from imblearn.over_sampling import SMOTE\n",
    "from keras.models import Sequential\n",
    "from keras.layers import Convolution2D, Dense, Dropout, Flatten, MaxPooling2D, BatchNormalization\n",
    "from keras.callbacks import EarlyStopping\n",
    "from sklearn.metrics import confusion_matrix\n",
    "import numpy as np\n",
    "from sklearn.metrics import roc_auc_score\n",
    "from keras.models import load_model\n",
    "%matplotlib inline"
   ]
  },
  {
   "cell_type": "markdown",
   "metadata": {},
   "source": [
    "## Load resampled time domain features"
   ]
  },
  {
   "cell_type": "code",
   "execution_count": 284,
   "metadata": {
    "collapsed": false
   },
   "outputs": [
    {
     "name": "stdout",
     "output_type": "stream",
     "text": [
      "Wall time: 7.7 s\n"
     ]
    }
   ],
   "source": [
    "%time X, y, files = load_features('train_1', [LPF(5.0), Resample(600)])"
   ]
  },
  {
   "cell_type": "code",
   "execution_count": 285,
   "metadata": {
    "collapsed": false
   },
   "outputs": [
    {
     "name": "stdout",
     "output_type": "stream",
     "text": [
      "(1267L, 16L, 600L)\n"
     ]
    }
   ],
   "source": [
    "print X.shape\n",
    "X = X.reshape(1267, X.shape[1]*X.shape[2])"
   ]
  },
  {
   "cell_type": "markdown",
   "metadata": {},
   "source": [
    "## 70/30 cv split"
   ]
  },
  {
   "cell_type": "code",
   "execution_count": 286,
   "metadata": {
    "collapsed": false
   },
   "outputs": [],
   "source": [
    "X_train, X_test, y_train, y_test = train_test_split(X, y, test_size=0.33, random_state=1337)"
   ]
  },
  {
   "cell_type": "markdown",
   "metadata": {},
   "source": [
    "## Scale to zero mean and unit variance"
   ]
  },
  {
   "cell_type": "code",
   "execution_count": 287,
   "metadata": {
    "collapsed": true
   },
   "outputs": [],
   "source": [
    "scaler = StandardScaler()\n",
    "X_train = scaler.fit_transform(X_train)\n",
    "X_test = scaler.transform(X_test)"
   ]
  },
  {
   "cell_type": "markdown",
   "metadata": {},
   "source": [
    "## Data Augmentation to balance classes with smote"
   ]
  },
  {
   "cell_type": "code",
   "execution_count": 288,
   "metadata": {
    "collapsed": true
   },
   "outputs": [],
   "source": [
    "sm = SMOTE(kind='regular')\n",
    "X_train_sm, y_train_sm = sm.fit_sample(X_train, y_train)"
   ]
  },
  {
   "cell_type": "markdown",
   "metadata": {},
   "source": [
    "## Reshape to (N, channels, samples, 1) for 2d convnet"
   ]
  },
  {
   "cell_type": "code",
   "execution_count": 290,
   "metadata": {
    "collapsed": false
   },
   "outputs": [],
   "source": [
    "X_train_2d_sm = X_train_sm.reshape((len(X_train_sm), 16, 600, 1))\n",
    "X_test_2d = X_test.reshape((len(X_test), 16, 600, 1))"
   ]
  },
  {
   "cell_type": "markdown",
   "metadata": {},
   "source": [
    "## Build simple 2d convnet"
   ]
  },
  {
   "cell_type": "code",
   "execution_count": 310,
   "metadata": {
    "collapsed": false
   },
   "outputs": [
    {
     "ename": "MemoryError",
     "evalue": "('Error allocating 39190528 bytes of device memory (CNMEM_STATUS_OUT_OF_MEMORY).', \"you might consider using 'theano.shared(..., borrow=True)'\")",
     "output_type": "error",
     "traceback": [
      "\u001b[1;31m---------------------------------------------------------------------------\u001b[0m",
      "\u001b[1;31mMemoryError\u001b[0m                               Traceback (most recent call last)",
      "\u001b[1;32m<ipython-input-310-8f8579c1912e>\u001b[0m in \u001b[0;36m<module>\u001b[1;34m()\u001b[0m\n\u001b[0;32m      3\u001b[0m \u001b[0mcnn\u001b[0m\u001b[1;33m.\u001b[0m\u001b[0madd\u001b[0m\u001b[1;33m(\u001b[0m\u001b[0mMaxPooling2D\u001b[0m\u001b[1;33m(\u001b[0m\u001b[0mpool_size\u001b[0m\u001b[1;33m=\u001b[0m\u001b[1;33m(\u001b[0m\u001b[1;36m2\u001b[0m\u001b[1;33m,\u001b[0m \u001b[1;36m1\u001b[0m\u001b[1;33m)\u001b[0m\u001b[1;33m)\u001b[0m\u001b[1;33m)\u001b[0m\u001b[1;33m\u001b[0m\u001b[0m\n\u001b[0;32m      4\u001b[0m \u001b[0mcnn\u001b[0m\u001b[1;33m.\u001b[0m\u001b[0madd\u001b[0m\u001b[1;33m(\u001b[0m\u001b[0mFlatten\u001b[0m\u001b[1;33m(\u001b[0m\u001b[1;33m)\u001b[0m\u001b[1;33m)\u001b[0m\u001b[1;33m\u001b[0m\u001b[0m\n\u001b[1;32m----> 5\u001b[1;33m \u001b[0mcnn\u001b[0m\u001b[1;33m.\u001b[0m\u001b[0madd\u001b[0m\u001b[1;33m(\u001b[0m\u001b[0mDense\u001b[0m\u001b[1;33m(\u001b[0m\u001b[1;36m512\u001b[0m\u001b[1;33m,\u001b[0m \u001b[0mactivation\u001b[0m\u001b[1;33m=\u001b[0m\u001b[1;34m\"relu\"\u001b[0m\u001b[1;33m)\u001b[0m\u001b[1;33m)\u001b[0m\u001b[1;33m\u001b[0m\u001b[0m\n\u001b[0m\u001b[0;32m      6\u001b[0m \u001b[0mcnn\u001b[0m\u001b[1;33m.\u001b[0m\u001b[0madd\u001b[0m\u001b[1;33m(\u001b[0m\u001b[0mDropout\u001b[0m\u001b[1;33m(\u001b[0m\u001b[1;36m0.5\u001b[0m\u001b[1;33m)\u001b[0m\u001b[1;33m)\u001b[0m\u001b[1;33m\u001b[0m\u001b[0m\n\u001b[0;32m      7\u001b[0m \u001b[0mcnn\u001b[0m\u001b[1;33m.\u001b[0m\u001b[0madd\u001b[0m\u001b[1;33m(\u001b[0m\u001b[0mDense\u001b[0m\u001b[1;33m(\u001b[0m\u001b[1;36m512\u001b[0m\u001b[1;33m,\u001b[0m \u001b[0mactivation\u001b[0m\u001b[1;33m=\u001b[0m\u001b[1;34m\"relu\"\u001b[0m\u001b[1;33m)\u001b[0m\u001b[1;33m)\u001b[0m\u001b[1;33m\u001b[0m\u001b[0m\n",
      "\u001b[1;32mC:\\Anaconda2\\lib\\site-packages\\keras\\models.pyc\u001b[0m in \u001b[0;36madd\u001b[1;34m(self, layer)\u001b[0m\n\u001b[0;32m    305\u001b[0m                  output_shapes=[self.outputs[0]._keras_shape])\n\u001b[0;32m    306\u001b[0m         \u001b[1;32melse\u001b[0m\u001b[1;33m:\u001b[0m\u001b[1;33m\u001b[0m\u001b[0m\n\u001b[1;32m--> 307\u001b[1;33m             \u001b[0moutput_tensor\u001b[0m \u001b[1;33m=\u001b[0m \u001b[0mlayer\u001b[0m\u001b[1;33m(\u001b[0m\u001b[0mself\u001b[0m\u001b[1;33m.\u001b[0m\u001b[0moutputs\u001b[0m\u001b[1;33m[\u001b[0m\u001b[1;36m0\u001b[0m\u001b[1;33m]\u001b[0m\u001b[1;33m)\u001b[0m\u001b[1;33m\u001b[0m\u001b[0m\n\u001b[0m\u001b[0;32m    308\u001b[0m             \u001b[1;32mif\u001b[0m \u001b[0mtype\u001b[0m\u001b[1;33m(\u001b[0m\u001b[0moutput_tensor\u001b[0m\u001b[1;33m)\u001b[0m \u001b[1;32mis\u001b[0m \u001b[0mlist\u001b[0m\u001b[1;33m:\u001b[0m\u001b[1;33m\u001b[0m\u001b[0m\n\u001b[0;32m    309\u001b[0m                 raise Exception('All layers in a Sequential model '\n",
      "\u001b[1;32mC:\\Anaconda2\\lib\\site-packages\\keras\\engine\\topology.pyc\u001b[0m in \u001b[0;36m__call__\u001b[1;34m(self, x, mask)\u001b[0m\n\u001b[0;32m    482\u001b[0m                                     '`layer.build(batch_input_shape)`')\n\u001b[0;32m    483\u001b[0m             \u001b[1;32mif\u001b[0m \u001b[0mlen\u001b[0m\u001b[1;33m(\u001b[0m\u001b[0minput_shapes\u001b[0m\u001b[1;33m)\u001b[0m \u001b[1;33m==\u001b[0m \u001b[1;36m1\u001b[0m\u001b[1;33m:\u001b[0m\u001b[1;33m\u001b[0m\u001b[0m\n\u001b[1;32m--> 484\u001b[1;33m                 \u001b[0mself\u001b[0m\u001b[1;33m.\u001b[0m\u001b[0mbuild\u001b[0m\u001b[1;33m(\u001b[0m\u001b[0minput_shapes\u001b[0m\u001b[1;33m[\u001b[0m\u001b[1;36m0\u001b[0m\u001b[1;33m]\u001b[0m\u001b[1;33m)\u001b[0m\u001b[1;33m\u001b[0m\u001b[0m\n\u001b[0m\u001b[0;32m    485\u001b[0m             \u001b[1;32melse\u001b[0m\u001b[1;33m:\u001b[0m\u001b[1;33m\u001b[0m\u001b[0m\n\u001b[0;32m    486\u001b[0m                 \u001b[0mself\u001b[0m\u001b[1;33m.\u001b[0m\u001b[0mbuild\u001b[0m\u001b[1;33m(\u001b[0m\u001b[0minput_shapes\u001b[0m\u001b[1;33m)\u001b[0m\u001b[1;33m\u001b[0m\u001b[0m\n",
      "\u001b[1;32mC:\\Anaconda2\\lib\\site-packages\\keras\\layers\\core.pyc\u001b[0m in \u001b[0;36mbuild\u001b[1;34m(self, input_shape)\u001b[0m\n\u001b[0;32m    602\u001b[0m \u001b[1;33m\u001b[0m\u001b[0m\n\u001b[0;32m    603\u001b[0m         self.W = self.init((input_dim, self.output_dim),\n\u001b[1;32m--> 604\u001b[1;33m                            name='{}_W'.format(self.name))\n\u001b[0m\u001b[0;32m    605\u001b[0m         \u001b[1;32mif\u001b[0m \u001b[0mself\u001b[0m\u001b[1;33m.\u001b[0m\u001b[0mbias\u001b[0m\u001b[1;33m:\u001b[0m\u001b[1;33m\u001b[0m\u001b[0m\n\u001b[0;32m    606\u001b[0m             self.b = K.zeros((self.output_dim,),\n",
      "\u001b[1;32mC:\\Anaconda2\\lib\\site-packages\\keras\\initializations.pyc\u001b[0m in \u001b[0;36mglorot_uniform\u001b[1;34m(shape, name, dim_ordering)\u001b[0m\n\u001b[0;32m     57\u001b[0m     \u001b[0mfan_in\u001b[0m\u001b[1;33m,\u001b[0m \u001b[0mfan_out\u001b[0m \u001b[1;33m=\u001b[0m \u001b[0mget_fans\u001b[0m\u001b[1;33m(\u001b[0m\u001b[0mshape\u001b[0m\u001b[1;33m,\u001b[0m \u001b[0mdim_ordering\u001b[0m\u001b[1;33m=\u001b[0m\u001b[0mdim_ordering\u001b[0m\u001b[1;33m)\u001b[0m\u001b[1;33m\u001b[0m\u001b[0m\n\u001b[0;32m     58\u001b[0m     \u001b[0ms\u001b[0m \u001b[1;33m=\u001b[0m \u001b[0mnp\u001b[0m\u001b[1;33m.\u001b[0m\u001b[0msqrt\u001b[0m\u001b[1;33m(\u001b[0m\u001b[1;36m6.\u001b[0m \u001b[1;33m/\u001b[0m \u001b[1;33m(\u001b[0m\u001b[0mfan_in\u001b[0m \u001b[1;33m+\u001b[0m \u001b[0mfan_out\u001b[0m\u001b[1;33m)\u001b[0m\u001b[1;33m)\u001b[0m\u001b[1;33m\u001b[0m\u001b[0m\n\u001b[1;32m---> 59\u001b[1;33m     \u001b[1;32mreturn\u001b[0m \u001b[0muniform\u001b[0m\u001b[1;33m(\u001b[0m\u001b[0mshape\u001b[0m\u001b[1;33m,\u001b[0m \u001b[0ms\u001b[0m\u001b[1;33m,\u001b[0m \u001b[0mname\u001b[0m\u001b[1;33m=\u001b[0m\u001b[0mname\u001b[0m\u001b[1;33m)\u001b[0m\u001b[1;33m\u001b[0m\u001b[0m\n\u001b[0m\u001b[0;32m     60\u001b[0m \u001b[1;33m\u001b[0m\u001b[0m\n\u001b[0;32m     61\u001b[0m \u001b[1;33m\u001b[0m\u001b[0m\n",
      "\u001b[1;32mC:\\Anaconda2\\lib\\site-packages\\keras\\initializations.pyc\u001b[0m in \u001b[0;36muniform\u001b[1;34m(shape, scale, name)\u001b[0m\n\u001b[0;32m     30\u001b[0m \u001b[1;33m\u001b[0m\u001b[0m\n\u001b[0;32m     31\u001b[0m \u001b[1;32mdef\u001b[0m \u001b[0muniform\u001b[0m\u001b[1;33m(\u001b[0m\u001b[0mshape\u001b[0m\u001b[1;33m,\u001b[0m \u001b[0mscale\u001b[0m\u001b[1;33m=\u001b[0m\u001b[1;36m0.05\u001b[0m\u001b[1;33m,\u001b[0m \u001b[0mname\u001b[0m\u001b[1;33m=\u001b[0m\u001b[0mNone\u001b[0m\u001b[1;33m)\u001b[0m\u001b[1;33m:\u001b[0m\u001b[1;33m\u001b[0m\u001b[0m\n\u001b[1;32m---> 32\u001b[1;33m     \u001b[1;32mreturn\u001b[0m \u001b[0mK\u001b[0m\u001b[1;33m.\u001b[0m\u001b[0mrandom_uniform_variable\u001b[0m\u001b[1;33m(\u001b[0m\u001b[0mshape\u001b[0m\u001b[1;33m,\u001b[0m \u001b[1;33m-\u001b[0m\u001b[0mscale\u001b[0m\u001b[1;33m,\u001b[0m \u001b[0mscale\u001b[0m\u001b[1;33m,\u001b[0m \u001b[0mname\u001b[0m\u001b[1;33m=\u001b[0m\u001b[0mname\u001b[0m\u001b[1;33m)\u001b[0m\u001b[1;33m\u001b[0m\u001b[0m\n\u001b[0m\u001b[0;32m     33\u001b[0m \u001b[1;33m\u001b[0m\u001b[0m\n\u001b[0;32m     34\u001b[0m \u001b[1;33m\u001b[0m\u001b[0m\n",
      "\u001b[1;32mC:\\Anaconda2\\lib\\site-packages\\keras\\backend\\theano_backend.pyc\u001b[0m in \u001b[0;36mrandom_uniform_variable\u001b[1;34m(shape, low, high, dtype, name)\u001b[0m\n\u001b[0;32m    109\u001b[0m \u001b[1;32mdef\u001b[0m \u001b[0mrandom_uniform_variable\u001b[0m\u001b[1;33m(\u001b[0m\u001b[0mshape\u001b[0m\u001b[1;33m,\u001b[0m \u001b[0mlow\u001b[0m\u001b[1;33m,\u001b[0m \u001b[0mhigh\u001b[0m\u001b[1;33m,\u001b[0m \u001b[0mdtype\u001b[0m\u001b[1;33m=\u001b[0m\u001b[0m_FLOATX\u001b[0m\u001b[1;33m,\u001b[0m \u001b[0mname\u001b[0m\u001b[1;33m=\u001b[0m\u001b[0mNone\u001b[0m\u001b[1;33m)\u001b[0m\u001b[1;33m:\u001b[0m\u001b[1;33m\u001b[0m\u001b[0m\n\u001b[0;32m    110\u001b[0m     return variable(np.random.uniform(low=low, high=high, size=shape),\n\u001b[1;32m--> 111\u001b[1;33m                     dtype=dtype, name=name)\n\u001b[0m\u001b[0;32m    112\u001b[0m \u001b[1;33m\u001b[0m\u001b[0m\n\u001b[0;32m    113\u001b[0m \u001b[1;33m\u001b[0m\u001b[0m\n",
      "\u001b[1;32mC:\\Anaconda2\\lib\\site-packages\\keras\\backend\\theano_backend.pyc\u001b[0m in \u001b[0;36mvariable\u001b[1;34m(value, dtype, name)\u001b[0m\n\u001b[0;32m     38\u001b[0m     '''\n\u001b[0;32m     39\u001b[0m     \u001b[0mvalue\u001b[0m \u001b[1;33m=\u001b[0m \u001b[0mnp\u001b[0m\u001b[1;33m.\u001b[0m\u001b[0masarray\u001b[0m\u001b[1;33m(\u001b[0m\u001b[0mvalue\u001b[0m\u001b[1;33m,\u001b[0m \u001b[0mdtype\u001b[0m\u001b[1;33m=\u001b[0m\u001b[0mdtype\u001b[0m\u001b[1;33m)\u001b[0m\u001b[1;33m\u001b[0m\u001b[0m\n\u001b[1;32m---> 40\u001b[1;33m     \u001b[1;32mreturn\u001b[0m \u001b[0mtheano\u001b[0m\u001b[1;33m.\u001b[0m\u001b[0mshared\u001b[0m\u001b[1;33m(\u001b[0m\u001b[0mvalue\u001b[0m\u001b[1;33m=\u001b[0m\u001b[0mvalue\u001b[0m\u001b[1;33m,\u001b[0m \u001b[0mname\u001b[0m\u001b[1;33m=\u001b[0m\u001b[0mname\u001b[0m\u001b[1;33m,\u001b[0m \u001b[0mstrict\u001b[0m\u001b[1;33m=\u001b[0m\u001b[0mFalse\u001b[0m\u001b[1;33m)\u001b[0m\u001b[1;33m\u001b[0m\u001b[0m\n\u001b[0m\u001b[0;32m     41\u001b[0m \u001b[1;33m\u001b[0m\u001b[0m\n\u001b[0;32m     42\u001b[0m \u001b[1;33m\u001b[0m\u001b[0m\n",
      "\u001b[1;32mC:\\Anaconda2\\lib\\site-packages\\theano\\compile\\sharedvalue.pyc\u001b[0m in \u001b[0;36mshared\u001b[1;34m(value, name, strict, allow_downcast, **kwargs)\u001b[0m\n\u001b[0;32m    245\u001b[0m             \u001b[1;32mtry\u001b[0m\u001b[1;33m:\u001b[0m\u001b[1;33m\u001b[0m\u001b[0m\n\u001b[0;32m    246\u001b[0m                 var = ctor(value, name=name, strict=strict,\n\u001b[1;32m--> 247\u001b[1;33m                            allow_downcast=allow_downcast, **kwargs)\n\u001b[0m\u001b[0;32m    248\u001b[0m                 \u001b[0mutils\u001b[0m\u001b[1;33m.\u001b[0m\u001b[0madd_tag_trace\u001b[0m\u001b[1;33m(\u001b[0m\u001b[0mvar\u001b[0m\u001b[1;33m)\u001b[0m\u001b[1;33m\u001b[0m\u001b[0m\n\u001b[0;32m    249\u001b[0m                 \u001b[1;32mreturn\u001b[0m \u001b[0mvar\u001b[0m\u001b[1;33m\u001b[0m\u001b[0m\n",
      "\u001b[1;32mC:\\Anaconda2\\lib\\site-packages\\theano\\sandbox\\cuda\\var.pyc\u001b[0m in \u001b[0;36mfloat32_shared_constructor\u001b[1;34m(value, name, strict, allow_downcast, borrow, broadcastable, target)\u001b[0m\n\u001b[0;32m    240\u001b[0m         \u001b[1;31m# type.broadcastable is guaranteed to be a tuple, which this next\u001b[0m\u001b[1;33m\u001b[0m\u001b[1;33m\u001b[0m\u001b[0m\n\u001b[0;32m    241\u001b[0m         \u001b[1;31m# function requires\u001b[0m\u001b[1;33m\u001b[0m\u001b[1;33m\u001b[0m\u001b[0m\n\u001b[1;32m--> 242\u001b[1;33m         \u001b[0mdeviceval\u001b[0m \u001b[1;33m=\u001b[0m \u001b[0mtype_support_filter\u001b[0m\u001b[1;33m(\u001b[0m\u001b[0mvalue\u001b[0m\u001b[1;33m,\u001b[0m \u001b[0mtype\u001b[0m\u001b[1;33m.\u001b[0m\u001b[0mbroadcastable\u001b[0m\u001b[1;33m,\u001b[0m \u001b[0mFalse\u001b[0m\u001b[1;33m,\u001b[0m \u001b[0mNone\u001b[0m\u001b[1;33m)\u001b[0m\u001b[1;33m\u001b[0m\u001b[0m\n\u001b[0m\u001b[0;32m    243\u001b[0m \u001b[1;33m\u001b[0m\u001b[0m\n\u001b[0;32m    244\u001b[0m     \u001b[1;32mtry\u001b[0m\u001b[1;33m:\u001b[0m\u001b[1;33m\u001b[0m\u001b[0m\n",
      "\u001b[1;31mMemoryError\u001b[0m: ('Error allocating 39190528 bytes of device memory (CNMEM_STATUS_OUT_OF_MEMORY).', \"you might consider using 'theano.shared(..., borrow=True)'\")"
     ]
    }
   ],
   "source": [
    "cnn = Sequential()\n",
    "cnn.add(Convolution2D(64, 3, 1, activation=\"relu\", input_shape=(16, 600, 1)))\n",
    "cnn.add(MaxPooling2D(pool_size=(2, 1)))\n",
    "cnn.add(Flatten())\n",
    "cnn.add(Dense(512, activation=\"relu\"))\n",
    "cnn.add(Dropout(0.5))\n",
    "cnn.add(Dense(512, activation=\"relu\"))\n",
    "cnn.add(Dropout(0.5))\n",
    "cnn.add(Dense(1, init='normal', activation='sigmoid'))\n",
    "cnn.compile(loss='binary_crossentropy', optimizer='adam', metrics=['accuracy'])\n",
    "earlystop = EarlyStopping(patience=20)"
   ]
  },
  {
   "cell_type": "code",
   "execution_count": 309,
   "metadata": {
    "collapsed": false
   },
   "outputs": [
    {
     "ename": "Exception",
     "evalue": "The model needs to be compiled before being used.",
     "output_type": "error",
     "traceback": [
      "\u001b[1;31m---------------------------------------------------------------------------\u001b[0m",
      "\u001b[1;31mException\u001b[0m                                 Traceback (most recent call last)",
      "\u001b[1;32m<ipython-input-309-5ca8cc0f2287>\u001b[0m in \u001b[0;36m<module>\u001b[1;34m()\u001b[0m\n\u001b[1;32m----> 1\u001b[1;33m \u001b[0mcnn\u001b[0m\u001b[1;33m.\u001b[0m\u001b[0mfit\u001b[0m\u001b[1;33m(\u001b[0m\u001b[0mX_train_2d_sm\u001b[0m\u001b[1;33m,\u001b[0m \u001b[0my_train_sm\u001b[0m\u001b[1;33m,\u001b[0m \u001b[0mnb_epoch\u001b[0m\u001b[1;33m=\u001b[0m\u001b[1;36m3\u001b[0m\u001b[1;33m,\u001b[0m \u001b[0mbatch_size\u001b[0m\u001b[1;33m=\u001b[0m\u001b[1;36m32\u001b[0m\u001b[1;33m,\u001b[0m \u001b[0mvalidation_data\u001b[0m\u001b[1;33m=\u001b[0m\u001b[1;33m(\u001b[0m\u001b[0mX_test_2d\u001b[0m\u001b[1;33m,\u001b[0m \u001b[0my_test\u001b[0m\u001b[1;33m)\u001b[0m\u001b[1;33m,\u001b[0m \u001b[0mcallbacks\u001b[0m\u001b[1;33m=\u001b[0m\u001b[1;33m[\u001b[0m\u001b[0mearlystop\u001b[0m\u001b[1;33m]\u001b[0m\u001b[1;33m)\u001b[0m\u001b[1;33m\u001b[0m\u001b[0m\n\u001b[0m",
      "\u001b[1;32mC:\\Anaconda2\\lib\\site-packages\\keras\\models.pyc\u001b[0m in \u001b[0;36mfit\u001b[1;34m(self, x, y, batch_size, nb_epoch, verbose, callbacks, validation_split, validation_data, shuffle, class_weight, sample_weight, **kwargs)\u001b[0m\n\u001b[0;32m    575\u001b[0m         '''\n\u001b[0;32m    576\u001b[0m         \u001b[1;32mif\u001b[0m \u001b[0mself\u001b[0m\u001b[1;33m.\u001b[0m\u001b[0mmodel\u001b[0m \u001b[1;32mis\u001b[0m \u001b[0mNone\u001b[0m\u001b[1;33m:\u001b[0m\u001b[1;33m\u001b[0m\u001b[0m\n\u001b[1;32m--> 577\u001b[1;33m             \u001b[1;32mraise\u001b[0m \u001b[0mException\u001b[0m\u001b[1;33m(\u001b[0m\u001b[1;34m'The model needs to be compiled before being used.'\u001b[0m\u001b[1;33m)\u001b[0m\u001b[1;33m\u001b[0m\u001b[0m\n\u001b[0m\u001b[0;32m    578\u001b[0m         \u001b[1;32mif\u001b[0m \u001b[1;34m'show_accuracy'\u001b[0m \u001b[1;32min\u001b[0m \u001b[0mkwargs\u001b[0m\u001b[1;33m:\u001b[0m\u001b[1;33m\u001b[0m\u001b[0m\n\u001b[0;32m    579\u001b[0m             \u001b[0mkwargs\u001b[0m\u001b[1;33m.\u001b[0m\u001b[0mpop\u001b[0m\u001b[1;33m(\u001b[0m\u001b[1;34m'show_accuracy'\u001b[0m\u001b[1;33m)\u001b[0m\u001b[1;33m\u001b[0m\u001b[0m\n",
      "\u001b[1;31mException\u001b[0m: The model needs to be compiled before being used."
     ]
    }
   ],
   "source": [
    "cnn.fit(X_train_2d_sm, y_train_sm, nb_epoch=3, batch_size=32, validation_data=(X_test_2d, y_test), callbacks=[earlystop])"
   ]
  },
  {
   "cell_type": "code",
   "execution_count": 249,
   "metadata": {
    "collapsed": false
   },
   "outputs": [
    {
     "name": "stdout",
     "output_type": "stream",
     "text": [
      "384/419 [==========================>...] - ETA: 0s"
     ]
    }
   ],
   "source": [
    "preds = cnn.predict_classes(X_test_2d)\n",
    "preds_train = cnn.predict_classes(X_train_2d)"
   ]
  },
  {
   "cell_type": "markdown",
   "metadata": {},
   "source": [
    "## Confusion matrix and ROC score train"
   ]
  },
  {
   "cell_type": "code",
   "execution_count": 307,
   "metadata": {
    "collapsed": false
   },
   "outputs": [
    {
     "name": "stdout",
     "output_type": "stream",
     "text": [
      "AUC: 0.595960\n"
     ]
    },
    {
     "data": {
      "image/png": "[encoded data removed]",
      "text/plain": [
       "<matplotlib.figure.Figure at 0x1815f4128>"
      ]
     },
     "metadata": {},
     "output_type": "display_data"
    }
   ],
   "source": [
    "sns.heatmap(confusion_matrix(y_train, preds_train), annot=True, fmt='d')\n",
    "print \"AUC: %f\" % (roc_auc_score(y_train, preds_train))"
   ]
  },
  {
   "cell_type": "markdown",
   "metadata": {},
   "source": [
    "## Confusion matrix and ROC score trest"
   ]
  },
  {
   "cell_type": "code",
   "execution_count": 306,
   "metadata": {
    "collapsed": false
   },
   "outputs": [
    {
     "name": "stdout",
     "output_type": "stream",
     "text": [
      "AUC: 0.973545\n"
     ]
    },
    {
     "data": {
      "image/png": "[encoded data removed]",
      "text/plain": [
       "<matplotlib.figure.Figure at 0x17b91f780>"
      ]
     },
     "metadata": {},
     "output_type": "display_data"
    }
   ],
   "source": [
    "sns.heatmap(confusion_matrix(y_test, preds), annot=True, fmt='d')\n",
    "print \"AUC: %f\" % (roc_auc_score(y_test, preds))"
   ]
  },
  {
   "cell_type": "code",
   "execution_count": 180,
   "metadata": {
    "collapsed": false
   },
   "outputs": [
    {
     "data": {
      "text/plain": [
       "0.97354497354497349"
      ]
     },
     "execution_count": 180,
     "metadata": {},
     "output_type": "execute_result"
    }
   ],
   "source": [
    "roc_auc_score(y_test, preds)"
   ]
  },
  {
   "cell_type": "code",
   "execution_count": 172,
   "metadata": {
    "collapsed": false
   },
   "outputs": [],
   "source": [
    "cnn2 = load_model('cnn1_lpf5.0_resample600_smote.h5')"
   ]
  },
  {
   "cell_type": "code",
   "execution_count": 217,
   "metadata": {
    "collapsed": false
   },
   "outputs": [
    {
     "data": {
      "text/plain": [
       "[<keras.layers.convolutional.Convolution2D at 0x13a14b240>,\n",
       " <keras.layers.pooling.MaxPooling2D at 0x13d236940>,\n",
       " <keras.layers.convolutional.Convolution2D at 0x13d236b00>,\n",
       " <keras.layers.pooling.MaxPooling2D at 0x13d2d81d0>,\n",
       " <keras.layers.core.Flatten at 0x13d2d8390>,\n",
       " <keras.layers.core.Dense at 0x13d269320>,\n",
       " <keras.layers.core.Dropout at 0x13d271048>,\n",
       " <keras.layers.core.Dense at 0x13d271438>,\n",
       " <keras.layers.core.Dropout at 0x13d288320>,\n",
       " <keras.layers.core.Dense at 0x13d4334a8>]"
      ]
     },
     "execution_count": 217,
     "metadata": {},
     "output_type": "execute_result"
    }
   ],
   "source": [
    "cnn2.layers"
   ]
  },
  {
   "cell_type": "code",
   "execution_count": 278,
   "metadata": {
    "collapsed": false
   },
   "outputs": [
    {
     "name": "stdout",
     "output_type": "stream",
     "text": [
      "416/419 [============================>.] - ETA: 0s"
     ]
    }
   ],
   "source": [
    "preds = cnn2.predict_classes(X_test_2d)"
   ]
  },
  {
   "cell_type": "code",
   "execution_count": 279,
   "metadata": {
    "collapsed": false
   },
   "outputs": [
    {
     "data": {
      "text/plain": [
       "0.97354497354497349"
      ]
     },
     "execution_count": 279,
     "metadata": {},
     "output_type": "execute_result"
    }
   ],
   "source": [
    "roc_auc_score(y_test, preds)"
   ]
  },
  {
   "cell_type": "code",
   "execution_count": 132,
   "metadata": {
    "collapsed": false
   },
   "outputs": [
    {
     "data": {
      "text/plain": [
       "1.0"
      ]
     },
     "execution_count": 132,
     "metadata": {},
     "output_type": "execute_result"
    }
   ],
   "source": [
    "roc_auc_score(y_train, preds_train)"
   ]
  },
  {
   "cell_type": "code",
   "execution_count": 133,
   "metadata": {
    "collapsed": false
   },
   "outputs": [
    {
     "ename": "ValueError",
     "evalue": "total size of new array must be unchanged",
     "output_type": "error",
     "traceback": [
      "\u001b[1;31m---------------------------------------------------------------------------\u001b[0m",
      "\u001b[1;31mValueError\u001b[0m                                Traceback (most recent call last)",
      "\u001b[1;32m<ipython-input-133-30af0b190314>\u001b[0m in \u001b[0;36m<module>\u001b[1;34m()\u001b[0m\n\u001b[1;32m----> 1\u001b[1;33m \u001b[0mX_test_1d\u001b[0m \u001b[1;33m=\u001b[0m \u001b[0mX_test\u001b[0m\u001b[1;33m.\u001b[0m\u001b[0mreshape\u001b[0m\u001b[1;33m(\u001b[0m\u001b[1;33m(\u001b[0m\u001b[0mlen\u001b[0m\u001b[1;33m(\u001b[0m\u001b[0mX_test\u001b[0m\u001b[1;33m)\u001b[0m\u001b[1;33m,\u001b[0m \u001b[1;36m16\u001b[0m\u001b[1;33m*\u001b[0m\u001b[1;36m47\u001b[0m\u001b[1;33m,\u001b[0m \u001b[1;36m1\u001b[0m\u001b[1;33m)\u001b[0m\u001b[1;33m)\u001b[0m\u001b[1;33m\u001b[0m\u001b[0m\n\u001b[0m\u001b[0;32m      2\u001b[0m \u001b[0mX_train_1d\u001b[0m \u001b[1;33m=\u001b[0m \u001b[0mX_train\u001b[0m\u001b[1;33m.\u001b[0m\u001b[0mreshape\u001b[0m\u001b[1;33m(\u001b[0m\u001b[1;33m(\u001b[0m\u001b[0mlen\u001b[0m\u001b[1;33m(\u001b[0m\u001b[0mX_train\u001b[0m\u001b[1;33m)\u001b[0m\u001b[1;33m,\u001b[0m \u001b[1;36m16\u001b[0m\u001b[1;33m*\u001b[0m\u001b[1;36m47\u001b[0m\u001b[1;33m,\u001b[0m \u001b[1;36m1\u001b[0m\u001b[1;33m)\u001b[0m\u001b[1;33m)\u001b[0m\u001b[1;33m\u001b[0m\u001b[0m\n\u001b[0;32m      3\u001b[0m \u001b[0mX_train_1d\u001b[0m\u001b[1;33m.\u001b[0m\u001b[0mshape\u001b[0m\u001b[1;33m\u001b[0m\u001b[0m\n",
      "\u001b[1;31mValueError\u001b[0m: total size of new array must be unchanged"
     ]
    }
   ],
   "source": [
    "X_test_1d = X_test.reshape((len(X_test), 16*47, 1))\n",
    "X_train_1d = X_train.reshape((len(X_train), 16*47, 1))\n",
    "X_train_1d.shape"
   ]
  },
  {
   "cell_type": "code",
   "execution_count": 39,
   "metadata": {
    "collapsed": false
   },
   "outputs": [
    {
     "data": {
      "text/plain": [
       "752"
      ]
     },
     "execution_count": 39,
     "metadata": {},
     "output_type": "execute_result"
    }
   ],
   "source": [
    "16*47"
   ]
  },
  {
   "cell_type": "code",
   "execution_count": 41,
   "metadata": {
    "collapsed": false
   },
   "outputs": [],
   "source": [
    "from keras.layers import Convolution1D, AveragePooling1D"
   ]
  },
  {
   "cell_type": "code",
   "execution_count": 42,
   "metadata": {
    "collapsed": false
   },
   "outputs": [],
   "source": [
    "model = Sequential()\n",
    "\n",
    "model.add(Convolution1D(nb_filter=6,\n",
    "                        filter_length=3,\n",
    "                        border_mode=\"valid\",\n",
    "                        activation=\"relu\", \n",
    "                        input_shape=(752, 1)))\n",
    "model.add(AveragePooling1D(pool_length=2))\n",
    "model.add(Flatten())\n",
    "model.add(Dense(512, activation=\"relu\"))\n",
    "model.add(Dropout(0.9))\n",
    "model.add(Dense(1, init='normal', activation='sigmoid'))\n",
    "model.compile(loss='binary_crossentropy', optimizer='adam', metrics=['accuracy'])"
   ]
  },
  {
   "cell_type": "code",
   "execution_count": 43,
   "metadata": {
    "collapsed": false
   },
   "outputs": [
    {
     "name": "stdout",
     "output_type": "stream",
     "text": [
      "Train on 848 samples, validate on 419 samples\n",
      "Epoch 1/50\n",
      "848/848 [==============================] - 0s - loss: 0.4830 - acc: 0.8715 - val_loss: 0.3315 - val_acc: 0.9021\n",
      "Epoch 2/50\n",
      "848/848 [==============================] - 0s - loss: 0.3799 - acc: 0.8833 - val_loss: 0.3270 - val_acc: 0.9021\n",
      "Epoch 3/50\n",
      "848/848 [==============================] - 0s - loss: 0.3775 - acc: 0.8833 - val_loss: 0.3239 - val_acc: 0.9021\n",
      "Epoch 4/50\n",
      "848/848 [==============================] - 0s - loss: 0.3939 - acc: 0.8833 - val_loss: 0.3323 - val_acc: 0.9021\n",
      "Epoch 5/50\n",
      "848/848 [==============================] - 0s - loss: 0.3743 - acc: 0.8833 - val_loss: 0.3203 - val_acc: 0.9021\n",
      "Epoch 6/50\n",
      "848/848 [==============================] - 0s - loss: 0.3728 - acc: 0.8833 - val_loss: 0.3231 - val_acc: 0.9021\n",
      "Epoch 7/50\n",
      "848/848 [==============================] - 0s - loss: 0.3662 - acc: 0.8833 - val_loss: 0.3226 - val_acc: 0.9021\n",
      "Epoch 8/50\n",
      "848/848 [==============================] - 0s - loss: 0.3836 - acc: 0.8833 - val_loss: 0.3301 - val_acc: 0.9021\n",
      "Epoch 9/50\n",
      "848/848 [==============================] - 0s - loss: 0.3757 - acc: 0.8833 - val_loss: 0.3213 - val_acc: 0.9021\n",
      "Epoch 10/50\n",
      "848/848 [==============================] - 0s - loss: 0.3756 - acc: 0.8833 - val_loss: 0.3221 - val_acc: 0.9021\n",
      "Epoch 11/50\n",
      "848/848 [==============================] - 0s - loss: 0.3864 - acc: 0.8833 - val_loss: 0.3205 - val_acc: 0.9021\n",
      "Epoch 12/50\n",
      "848/848 [==============================] - 0s - loss: 0.3764 - acc: 0.8833 - val_loss: 0.3242 - val_acc: 0.9021\n",
      "Epoch 13/50\n",
      "848/848 [==============================] - 0s - loss: 0.3764 - acc: 0.8833 - val_loss: 0.3232 - val_acc: 0.9021\n",
      "Epoch 14/50\n",
      "848/848 [==============================] - 0s - loss: 0.3825 - acc: 0.8833 - val_loss: 0.3204 - val_acc: 0.9021\n",
      "Epoch 15/50\n",
      "848/848 [==============================] - 0s - loss: 0.3852 - acc: 0.8833 - val_loss: 0.3221 - val_acc: 0.9021\n",
      "Epoch 16/50\n",
      "848/848 [==============================] - 0s - loss: 0.3705 - acc: 0.8833 - val_loss: 0.3206 - val_acc: 0.9021\n",
      "Epoch 17/50\n",
      "848/848 [==============================] - 0s - loss: 0.3769 - acc: 0.8833 - val_loss: 0.3273 - val_acc: 0.9021\n",
      "Epoch 18/50\n",
      "848/848 [==============================] - 0s - loss: 0.3742 - acc: 0.8833 - val_loss: 0.3249 - val_acc: 0.9021\n",
      "Epoch 19/50\n",
      "848/848 [==============================] - 0s - loss: 0.3725 - acc: 0.8833 - val_loss: 0.3206 - val_acc: 0.9021\n",
      "Epoch 20/50\n",
      "848/848 [==============================] - 0s - loss: 0.3760 - acc: 0.8833 - val_loss: 0.3228 - val_acc: 0.9021\n",
      "Epoch 21/50\n",
      "848/848 [==============================] - 0s - loss: 0.3733 - acc: 0.8833 - val_loss: 0.3246 - val_acc: 0.9021\n",
      "Epoch 22/50\n",
      "848/848 [==============================] - 0s - loss: 0.3914 - acc: 0.8833 - val_loss: 0.3273 - val_acc: 0.9021\n",
      "Epoch 23/50\n",
      "848/848 [==============================] - 0s - loss: 0.3718 - acc: 0.8833 - val_loss: 0.3240 - val_acc: 0.9021\n",
      "Epoch 24/50\n",
      "848/848 [==============================] - 0s - loss: 0.4005 - acc: 0.8833 - val_loss: 0.3468 - val_acc: 0.9021\n",
      "Epoch 25/50\n",
      "848/848 [==============================] - 0s - loss: 0.3864 - acc: 0.8833 - val_loss: 0.3489 - val_acc: 0.9021\n",
      "Epoch 26/50\n",
      "848/848 [==============================] - 0s - loss: 0.3833 - acc: 0.8833 - val_loss: 0.3231 - val_acc: 0.9021\n"
     ]
    },
    {
     "data": {
      "text/plain": [
       "<keras.callbacks.History at 0x1047107f0>"
      ]
     },
     "execution_count": 43,
     "metadata": {},
     "output_type": "execute_result"
    }
   ],
   "source": [
    "model.fit(X_train_1d, y_train, nb_epoch=50, validation_data=(X_test_1d, y_test), callbacks=[earlystop])"
   ]
  },
  {
   "cell_type": "code",
   "execution_count": 147,
   "metadata": {
    "collapsed": false
   },
   "outputs": [
    {
     "name": "stdout",
     "output_type": "stream",
     "text": [
      "352/430 [=======================>......] - ETA: 0s"
     ]
    }
   ],
   "source": [
    "preds_train_1d = model.predict_classes(X_train_1d)\n",
    "preds_1d = model.predict_classes(X_test_1d)"
   ]
  },
  {
   "cell_type": "code",
   "execution_count": 145,
   "metadata": {
    "collapsed": false
   },
   "outputs": [
    {
     "data": {
      "text/plain": [
       "0.82524271844660202"
      ]
     },
     "execution_count": 145,
     "metadata": {},
     "output_type": "execute_result"
    }
   ],
   "source": [
    "roc_auc_score(y_train, preds_train_1d)"
   ]
  },
  {
   "cell_type": "code",
   "execution_count": 148,
   "metadata": {
    "collapsed": false
   },
   "outputs": [
    {
     "data": {
      "text/plain": [
       "0.49479166666666669"
      ]
     },
     "execution_count": 148,
     "metadata": {},
     "output_type": "execute_result"
    }
   ],
   "source": [
    "roc_auc_score(y_test, preds_1d)"
   ]
  },
  {
   "cell_type": "code",
   "execution_count": 149,
   "metadata": {
    "collapsed": true
   },
   "outputs": [],
   "source": [
    "from keras.layers import LSTM"
   ]
  },
  {
   "cell_type": "code",
   "execution_count": 156,
   "metadata": {
    "collapsed": true
   },
   "outputs": [],
   "source": [
    "model = Sequential()\n",
    "model.add(LSTM(4, input_shape=(9600, 1)))\n",
    "model.add(Dense(1))\n",
    "model.compile(loss='binary_crossentropy', optimizer='adam', metrics=['accuracy'])"
   ]
  },
  {
   "cell_type": "code",
   "execution_count": 46,
   "metadata": {
    "collapsed": false
   },
   "outputs": [
    {
     "name": "stdout",
     "output_type": "stream",
     "text": [
      "Train on 848 samples, validate on 419 samples\n",
      "Epoch 1/50\n",
      "848/848 [==============================] - 0s - loss: 0.3746 - acc: 0.8833 - val_loss: 0.3244 - val_acc: 0.9021\n",
      "Epoch 2/50\n",
      "848/848 [==============================] - 0s - loss: 0.3708 - acc: 0.8833 - val_loss: 0.3230 - val_acc: 0.9021\n",
      "Epoch 3/50\n",
      "848/848 [==============================] - 0s - loss: 0.3818 - acc: 0.8833 - val_loss: 0.3219 - val_acc: 0.9021\n",
      "Epoch 4/50\n",
      "848/848 [==============================] - 0s - loss: 0.3703 - acc: 0.8833 - val_loss: 0.3243 - val_acc: 0.9021\n",
      "Epoch 5/50\n",
      "848/848 [==============================] - 0s - loss: 0.3862 - acc: 0.8833 - val_loss: 0.3233 - val_acc: 0.9021\n",
      "Epoch 6/50\n",
      "848/848 [==============================] - 0s - loss: 0.3781 - acc: 0.8833 - val_loss: 0.3277 - val_acc: 0.9021\n",
      "Epoch 7/50\n",
      "848/848 [==============================] - 0s - loss: 0.3664 - acc: 0.8833 - val_loss: 0.3203 - val_acc: 0.9021\n",
      "Epoch 8/50\n",
      "848/848 [==============================] - 0s - loss: 0.3753 - acc: 0.8833 - val_loss: 0.3309 - val_acc: 0.9021\n",
      "Epoch 9/50\n",
      "848/848 [==============================] - 0s - loss: 0.3829 - acc: 0.8833 - val_loss: 0.3222 - val_acc: 0.9021\n",
      "Epoch 10/50\n",
      "848/848 [==============================] - 0s - loss: 0.3811 - acc: 0.8833 - val_loss: 0.3347 - val_acc: 0.9021\n",
      "Epoch 11/50\n",
      "848/848 [==============================] - 0s - loss: 0.3727 - acc: 0.8833 - val_loss: 0.3208 - val_acc: 0.9021\n",
      "Epoch 12/50\n",
      "848/848 [==============================] - 0s - loss: 0.3694 - acc: 0.8833 - val_loss: 0.3355 - val_acc: 0.9021\n",
      "Epoch 13/50\n",
      "848/848 [==============================] - 0s - loss: 0.3843 - acc: 0.8833 - val_loss: 0.3221 - val_acc: 0.9021\n",
      "Epoch 14/50\n",
      "848/848 [==============================] - 0s - loss: 0.3748 - acc: 0.8833 - val_loss: 0.3356 - val_acc: 0.9021\n",
      "Epoch 15/50\n",
      "848/848 [==============================] - 0s - loss: 0.3824 - acc: 0.8833 - val_loss: 0.3241 - val_acc: 0.9021\n",
      "Epoch 16/50\n",
      "848/848 [==============================] - 0s - loss: 0.3768 - acc: 0.8833 - val_loss: 0.3206 - val_acc: 0.9021\n",
      "Epoch 17/50\n",
      "848/848 [==============================] - 0s - loss: 0.3652 - acc: 0.8833 - val_loss: 0.3267 - val_acc: 0.9021\n",
      "Epoch 18/50\n",
      "848/848 [==============================] - 0s - loss: 0.3799 - acc: 0.8833 - val_loss: 0.3203 - val_acc: 0.9021\n",
      "Epoch 19/50\n",
      "848/848 [==============================] - 0s - loss: 0.3781 - acc: 0.8833 - val_loss: 0.3203 - val_acc: 0.9021\n",
      "Epoch 20/50\n",
      "848/848 [==============================] - 0s - loss: 0.3781 - acc: 0.8833 - val_loss: 0.3261 - val_acc: 0.9021\n",
      "Epoch 21/50\n",
      "848/848 [==============================] - 0s - loss: 0.3698 - acc: 0.8833 - val_loss: 0.3220 - val_acc: 0.9021\n",
      "Epoch 22/50\n",
      "848/848 [==============================] - 0s - loss: 0.3844 - acc: 0.8833 - val_loss: 0.3266 - val_acc: 0.9021\n",
      "Epoch 23/50\n",
      "848/848 [==============================] - 0s - loss: 0.3743 - acc: 0.8833 - val_loss: 0.3206 - val_acc: 0.9021\n",
      "Epoch 24/50\n",
      "848/848 [==============================] - 0s - loss: 0.3772 - acc: 0.8833 - val_loss: 0.3394 - val_acc: 0.9021\n",
      "Epoch 25/50\n",
      "848/848 [==============================] - 0s - loss: 0.3661 - acc: 0.8833 - val_loss: 0.3203 - val_acc: 0.9021\n",
      "Epoch 26/50\n",
      "848/848 [==============================] - 0s - loss: 0.3727 - acc: 0.8833 - val_loss: 0.3230 - val_acc: 0.9021\n",
      "Epoch 27/50\n",
      "848/848 [==============================] - 0s - loss: 0.3722 - acc: 0.8833 - val_loss: 0.3219 - val_acc: 0.9021\n",
      "Epoch 28/50\n",
      "848/848 [==============================] - 0s - loss: 0.3703 - acc: 0.8833 - val_loss: 0.3283 - val_acc: 0.9021\n",
      "Epoch 29/50\n",
      "848/848 [==============================] - 0s - loss: 0.3718 - acc: 0.8833 - val_loss: 0.3220 - val_acc: 0.9021\n",
      "Epoch 30/50\n",
      "848/848 [==============================] - 0s - loss: 0.3751 - acc: 0.8833 - val_loss: 0.3222 - val_acc: 0.9021\n",
      "Epoch 31/50\n",
      "848/848 [==============================] - 0s - loss: 0.3740 - acc: 0.8833 - val_loss: 0.3211 - val_acc: 0.9021\n",
      "Epoch 32/50\n",
      "848/848 [==============================] - 0s - loss: 0.3690 - acc: 0.8833 - val_loss: 0.3203 - val_acc: 0.9021\n",
      "Epoch 33/50\n",
      "848/848 [==============================] - 0s - loss: 0.3723 - acc: 0.8833 - val_loss: 0.3340 - val_acc: 0.9021\n",
      "Epoch 34/50\n",
      "848/848 [==============================] - 0s - loss: 0.3664 - acc: 0.8833 - val_loss: 0.3209 - val_acc: 0.9021\n",
      "Epoch 35/50\n",
      "848/848 [==============================] - 0s - loss: 0.3860 - acc: 0.8833 - val_loss: 0.3306 - val_acc: 0.9021\n",
      "Epoch 36/50\n",
      "848/848 [==============================] - 0s - loss: 0.3663 - acc: 0.8833 - val_loss: 0.3221 - val_acc: 0.9021\n",
      "Epoch 37/50\n",
      "848/848 [==============================] - 0s - loss: 0.3730 - acc: 0.8833 - val_loss: 0.3254 - val_acc: 0.9021\n",
      "Epoch 38/50\n",
      "848/848 [==============================] - 0s - loss: 0.3642 - acc: 0.8833 - val_loss: 0.3219 - val_acc: 0.9021\n",
      "Epoch 39/50\n",
      "848/848 [==============================] - 0s - loss: 0.3640 - acc: 0.8833 - val_loss: 0.3208 - val_acc: 0.9021\n",
      "Epoch 40/50\n",
      "848/848 [==============================] - 0s - loss: 0.3760 - acc: 0.8833 - val_loss: 0.3212 - val_acc: 0.9021\n",
      "Epoch 41/50\n",
      "848/848 [==============================] - 0s - loss: 0.3696 - acc: 0.8833 - val_loss: 0.3204 - val_acc: 0.9021\n",
      "Epoch 42/50\n",
      "848/848 [==============================] - 0s - loss: 0.3845 - acc: 0.8833 - val_loss: 0.3341 - val_acc: 0.9021\n",
      "Epoch 43/50\n",
      "848/848 [==============================] - 0s - loss: 0.3685 - acc: 0.8833 - val_loss: 0.3233 - val_acc: 0.9021\n",
      "Epoch 44/50\n",
      "848/848 [==============================] - 0s - loss: 0.3713 - acc: 0.8833 - val_loss: 0.3286 - val_acc: 0.9021\n",
      "Epoch 45/50\n",
      "848/848 [==============================] - 0s - loss: 0.3748 - acc: 0.8833 - val_loss: 0.3216 - val_acc: 0.9021\n",
      "Epoch 46/50\n",
      "848/848 [==============================] - 0s - loss: 0.3688 - acc: 0.8833 - val_loss: 0.3301 - val_acc: 0.9021\n"
     ]
    },
    {
     "data": {
      "text/plain": [
       "<keras.callbacks.History at 0x104710f98>"
      ]
     },
     "execution_count": 46,
     "metadata": {},
     "output_type": "execute_result"
    }
   ],
   "source": [
    "model.fit(X_train_1d, y_train, nb_epoch=50, validation_data=(X_test_1d, y_test), callbacks=[earlystop])"
   ]
  },
  {
   "cell_type": "code",
   "execution_count": null,
   "metadata": {
    "collapsed": true
   },
   "outputs": [],
   "source": []
  }
 ],
 "metadata": {
  "kernelspec": {
   "display_name": "Python 2",
   "language": "python",
   "name": "python2"
  },
  "language_info": {
   "codemirror_mode": {
    "name": "ipython",
    "version": 2
   },
   "file_extension": ".py",
   "mimetype": "text/x-python",
   "name": "python",
   "nbconvert_exporter": "python",
   "pygments_lexer": "ipython2",
   "version": "2.7.11"
  }
 },
 "nbformat": 4,
 "nbformat_minor": 0
}
