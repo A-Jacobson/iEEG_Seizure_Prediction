{
 "cells": [
  {
   "cell_type": "code",
   "execution_count": 17,
   "metadata": {
    "collapsed": false,
    "scrolled": true
   },
   "outputs": [],
   "source": [
    "from data_utils import load_features\n",
    "from transforms import *\n",
    "import matplotlib.pyplot as plt\n",
    "import seaborn as sns\n",
    "from sklearn.preprocessing import StandardScaler\n",
    "from sklearn.cross_validation import train_test_split\n",
    "from imblearn.over_sampling import SMOTE\n",
    "from keras.models import Sequential\n",
    "from keras.layers import Convolution2D, Dense, Dropout, Flatten, MaxPooling2D, Activation\n",
    "from keras.layers import AtrousConvolution2D, AveragePooling2D, LeakyReLU, PReLU\n",
    "from keras.callbacks import EarlyStopping\n",
    "from sklearn.metrics import confusion_matrix\n",
    "import numpy as np\n",
    "from sklearn.metrics import roc_auc_score\n",
    "from keras.models import load_model\n",
    "from keras.regularizers import l2\n",
    "import os\n",
    "%matplotlib inline"
   ]
  },
  {
   "cell_type": "markdown",
   "metadata": {},
   "source": [
    "## Load resampled time domain features"
   ]
  },
  {
   "cell_type": "code",
   "execution_count": 2,
   "metadata": {
    "collapsed": false
   },
   "outputs": [
    {
     "name": "stdout",
     "output_type": "stream",
     "text": [
      "Wall time: 8.45 s\n"
     ]
    }
   ],
   "source": [
    "%time X, y, files = load_features('train_1', [Interp(), Resample(600)])"
   ]
  },
  {
   "cell_type": "code",
   "execution_count": 3,
   "metadata": {
    "collapsed": false
   },
   "outputs": [
    {
     "name": "stdout",
     "output_type": "stream",
     "text": [
      "(1267L, 16L, 600L)\n"
     ]
    }
   ],
   "source": [
    "print X.shape\n",
    "X = X.reshape(X.shape[0], X.shape[1]*X.shape[2])"
   ]
  },
  {
   "cell_type": "markdown",
   "metadata": {},
   "source": [
    "## 70/30 cv split"
   ]
  },
  {
   "cell_type": "code",
   "execution_count": 4,
   "metadata": {
    "collapsed": false
   },
   "outputs": [],
   "source": [
    "X_train, X_test, y_train, y_test = train_test_split(X, y, test_size=0.30)"
   ]
  },
  {
   "cell_type": "markdown",
   "metadata": {},
   "source": [
    "## Scale to zero mean and unit variance"
   ]
  },
  {
   "cell_type": "code",
   "execution_count": 5,
   "metadata": {
    "collapsed": true
   },
   "outputs": [],
   "source": [
    "scaler = StandardScaler()\n",
    "X_train = scaler.fit_transform(X_train)\n",
    "X_test = scaler.transform(X_test)"
   ]
  },
  {
   "cell_type": "markdown",
   "metadata": {},
   "source": [
    "## Data Augmentation to balance classes with smote"
   ]
  },
  {
   "cell_type": "code",
   "execution_count": 6,
   "metadata": {
    "collapsed": true
   },
   "outputs": [],
   "source": [
    "sm = SMOTE(kind='regular')\n",
    "X_train_sm, y_train_sm = sm.fit_sample(X_train, y_train)"
   ]
  },
  {
   "cell_type": "markdown",
   "metadata": {},
   "source": [
    "## Reshape to (N, channels, samples, 1) for 2d convnet"
   ]
  },
  {
   "cell_type": "code",
   "execution_count": 7,
   "metadata": {
    "collapsed": false
   },
   "outputs": [],
   "source": [
    "X_train_2d_sm = X_train_sm.reshape((len(X_train_sm), 16, 600, 1))\n",
    "X_test_2d = X_test.reshape((len(X_test), 16, 600, 1))"
   ]
  },
  {
   "cell_type": "markdown",
   "metadata": {},
   "source": [
    "## Build simple 2d convnet"
   ]
  },
  {
   "cell_type": "code",
   "execution_count": 32,
   "metadata": {
    "collapsed": false
   },
   "outputs": [],
   "source": [
    "cnn = Sequential()\n",
    "cnn.add(AtrousConvolution2D(64, 3, 1, atrous_rate=(2,2), border_mode='valid', input_shape=(16, 600, 1)))\n",
    "cnn.add(Activation('relu'))\n",
    "cnn.add(PReLU())\n",
    "cnn.add(AveragePooling2D(pool_size=(2, 1)))\n",
    "cnn.add(AtrousConvolution2D(64, 3, 1, atrous_rate=(2,2), border_mode='valid'))\n",
    "cnn.add(Activation('relu'))\n",
    "cnn.add(PReLU())\n",
    "cnn.add(AveragePooling2D(pool_size=(2, 1)))\n",
    "cnn.add(Flatten())\n",
    "cnn.add(Dense(512, init='he_normal'))\n",
    "cnn.add(PReLU())\n",
    "cnn.add(Dropout(0.5))\n",
    "cnn.add(Dense(512, init='he_normal'))\n",
    "cnn.add(PReLU())\n",
    "cnn.add(Dropout(0.5))\n",
    "cnn.add(Dense(1, init='he_normal', activation='sigmoid'))\n",
    "cnn.compile(loss='binary_crossentropy', optimizer='adam', metrics=['accuracy'])\n",
    "earlystop = EarlyStopping(patience=4)"
   ]
  },
  {
   "cell_type": "code",
   "execution_count": 43,
   "metadata": {
    "collapsed": false
   },
   "outputs": [
    {
     "name": "stdout",
     "output_type": "stream",
     "text": [
      "Train on 1576 samples, validate on 381 samples\n",
      "Epoch 1/10\n",
      "1576/1576 [==============================] - 0s - loss: 0.0083 - acc: 0.9975 - val_loss: 0.7791 - val_acc: 0.8740\n",
      "Epoch 2/10\n",
      "1576/1576 [==============================] - 0s - loss: 0.0058 - acc: 1.0000 - val_loss: 0.7825 - val_acc: 0.8661\n",
      "Epoch 3/10\n",
      "1576/1576 [==============================] - 0s - loss: 0.0065 - acc: 0.9981 - val_loss: 0.8453 - val_acc: 0.8714\n",
      "Epoch 4/10\n",
      "1576/1576 [==============================] - 0s - loss: 0.0041 - acc: 0.9994 - val_loss: 0.8186 - val_acc: 0.8688\n",
      "Epoch 5/10\n",
      "1576/1576 [==============================] - 0s - loss: 0.0042 - acc: 0.9987 - val_loss: 0.9144 - val_acc: 0.8740\n",
      "Epoch 6/10\n",
      "1576/1576 [==============================] - 0s - loss: 0.0020 - acc: 1.0000 - val_loss: 0.8594 - val_acc: 0.8635\n"
     ]
    },
    {
     "data": {
      "text/plain": [
       "<keras.callbacks.History at 0x11b0090b8>"
      ]
     },
     "execution_count": 43,
     "metadata": {},
     "output_type": "execute_result"
    }
   ],
   "source": [
    "cnn.fit(X_train_2d_sm, y_train_sm, nb_epoch=10, batch_size=256, validation_data=(X_test_2d, y_test), callbacks=[earlystop])"
   ]
  },
  {
   "cell_type": "code",
   "execution_count": 34,
   "metadata": {
    "collapsed": false
   },
   "outputs": [
    {
     "name": "stdout",
     "output_type": "stream",
     "text": [
      "1536/1576 [============================>.] - ETA: 0s"
     ]
    }
   ],
   "source": [
    "preds = cnn.predict_classes(X_test_2d)\n",
    "preds_train = cnn.predict_classes(X_train_2d_sm)"
   ]
  },
  {
   "cell_type": "markdown",
   "metadata": {},
   "source": [
    "## Confusion matrix and ROC score train"
   ]
  },
  {
   "cell_type": "code",
   "execution_count": 35,
   "metadata": {
    "collapsed": false
   },
   "outputs": [
    {
     "name": "stdout",
     "output_type": "stream",
     "text": [
      "AUC: 0.991117\n"
     ]
    },
    {
     "data": {
      "image/png": "[encoded data removed]",
      "text/plain": [
       "<matplotlib.figure.Figure at 0x11ae78e10>"
      ]
     },
     "metadata": {},
     "output_type": "display_data"
    }
   ],
   "source": [
    "sns.heatmap(confusion_matrix(y_train_sm, preds_train), annot=True, fmt='d')\n",
    "print \"AUC: %f\" % (roc_auc_score(y_train_sm, preds_train))"
   ]
  },
  {
   "cell_type": "markdown",
   "metadata": {},
   "source": [
    "## Confusion matrix and ROC score trest"
   ]
  },
  {
   "cell_type": "code",
   "execution_count": 36,
   "metadata": {
    "collapsed": false
   },
   "outputs": [
    {
     "name": "stdout",
     "output_type": "stream",
     "text": [
      "AUC: 0.515171\n"
     ]
    },
    {
     "data": {
      "image/png": "[encoded data removed]",
      "text/plain": [
       "<matplotlib.figure.Figure at 0x11b0201d0>"
      ]
     },
     "metadata": {},
     "output_type": "display_data"
    }
   ],
   "source": [
    "sns.heatmap(confusion_matrix(y_test, preds), annot=True, fmt='d')\n",
    "print \"AUC: %f\" % (roc_auc_score(y_test, preds))"
   ]
  },
  {
   "cell_type": "markdown",
   "metadata": {},
   "source": [
    "## Load current best model\n",
    "cnn only trained for 3 epochs"
   ]
  },
  {
   "cell_type": "code",
   "execution_count": 38,
   "metadata": {
    "collapsed": false
   },
   "outputs": [],
   "source": [
    "cnn2 = load_model(os.path.join('trained_models', 'cnn1_lpf5.0_resample600_smote.h5'))"
   ]
  },
  {
   "cell_type": "code",
   "execution_count": 39,
   "metadata": {
    "collapsed": false
   },
   "outputs": [
    {
     "name": "stdout",
     "output_type": "stream",
     "text": [
      "381/381 [==============================] - 0s     \n",
      "1576/1576 [==============================] - 0s     \n"
     ]
    }
   ],
   "source": [
    "preds2 = cnn2.predict_classes(X_test_2d)\n",
    "preds2_train = cnn2.predict_classes(X_train_2d_sm)"
   ]
  },
  {
   "cell_type": "code",
   "execution_count": 40,
   "metadata": {
    "collapsed": false
   },
   "outputs": [
    {
     "name": "stdout",
     "output_type": "stream",
     "text": [
      "AUC: 0.847716\n"
     ]
    },
    {
     "data": {
      "image/png": "[encoded data removed]",
      "text/plain": [
       "<matplotlib.figure.Figure at 0x11b2982e8>"
      ]
     },
     "metadata": {},
     "output_type": "display_data"
    }
   ],
   "source": [
    "sns.heatmap(confusion_matrix(y_train_sm, preds2_train), annot=True, fmt='d')\n",
    "print \"AUC: %f\" % (roc_auc_score(y_train_sm, preds2_train))"
   ]
  },
  {
   "cell_type": "code",
   "execution_count": 41,
   "metadata": {
    "collapsed": false
   },
   "outputs": [
    {
     "name": "stdout",
     "output_type": "stream",
     "text": [
      "AUC: 0.896334\n"
     ]
    },
    {
     "data": {
      "image/png": "[encoded data removed]",
      "text/plain": [
       "<matplotlib.figure.Figure at 0x11b020ba8>"
      ]
     },
     "metadata": {},
     "output_type": "display_data"
    }
   ],
   "source": [
    "sns.heatmap(confusion_matrix(y_test, preds2), annot=True, fmt='d')\n",
    "print \"AUC: %f\" % (roc_auc_score(y_test, preds2))"
   ]
  },
  {
   "cell_type": "code",
   "execution_count": 42,
   "metadata": {
    "collapsed": false
   },
   "outputs": [
    {
     "name": "stdout",
     "output_type": "stream",
     "text": [
      "Wall time: 11.5 s\n"
     ]
    }
   ],
   "source": [
    "%time X, files = load_features('test_1', [LPF(5.0), Resample(600)])"
   ]
  },
  {
   "cell_type": "code",
   "execution_count": null,
   "metadata": {
    "collapsed": true
   },
   "outputs": [],
   "source": []
  }
 ],
 "metadata": {
  "kernelspec": {
   "display_name": "Python 2",
   "language": "python",
   "name": "python2"
  },
  "language_info": {
   "codemirror_mode": {
    "name": "ipython",
    "version": 2
   },
   "file_extension": ".py",
   "mimetype": "text/x-python",
   "name": "python",
   "nbconvert_exporter": "python",
   "pygments_lexer": "ipython2",
   "version": "2.7.11"
  }
 },
 "nbformat": 4,
 "nbformat_minor": 0
}
