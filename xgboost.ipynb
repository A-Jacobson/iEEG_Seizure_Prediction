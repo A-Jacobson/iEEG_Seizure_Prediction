{
 "cells": [
  {
   "cell_type": "code",
   "execution_count": 24,
   "metadata": {
    "collapsed": false
   },
   "outputs": [
    {
     "name": "stdout",
     "output_type": "stream",
     "text": [
      "The autoreload extension is already loaded. To reload it, use:\n",
      "  %reload_ext autoreload\n"
     ]
    }
   ],
   "source": [
    "import xgboost as xgb\n",
    "from data_utils import load_features, preds_to_df\n",
    "from transforms import *\n",
    "import matplotlib.pyplot as plt\n",
    "import seaborn as sns\n",
    "from sklearn.preprocessing import StandardScaler\n",
    "from sklearn.cross_validation import train_test_split\n",
    "from sklearn.metrics import confusion_matrix\n",
    "from imblearn.over_sampling import SMOTE\n",
    "import numpy as np\n",
    "from sklearn.metrics import roc_auc_score\n",
    "import os\n",
    "import pandas as pd\n",
    "%matplotlib inline\n",
    "%load_ext autoreload\n",
    "%autoreload 2\n",
    "sns.set_style(\"white\")"
   ]
  },
  {
   "cell_type": "code",
   "execution_count": 111,
   "metadata": {
    "collapsed": false
   },
   "outputs": [
    {
     "name": "stdout",
     "output_type": "stream",
     "text": [
      "Wall time: 111 ms\n"
     ]
    }
   ],
   "source": [
    "patient = 1\n",
    "\n",
    "%time X_corr, y, files_1 = load_features('train_{}'.format(patient), [CorrelationMatrix()])\n",
    "# %time X_mean_abs, y, files_2 = load_features('train_{}'.format(patient), [Mean(), Abs()])\n",
    "# %time X_stats, y, files_3 = load_features('train_{}'.format(patient), [Stats()])\n",
    "# %time X_fft, y, files_3 = load_features('train_{}'.format(patient), [FFT(), Slice(1, 160), Magnitude(), Log10()])"
   ]
  },
  {
   "cell_type": "code",
   "execution_count": 112,
   "metadata": {
    "collapsed": false
   },
   "outputs": [
    {
     "data": {
      "text/plain": [
       "('1_1000_0.mat', '1_2.mat', '1_2.mat')"
      ]
     },
     "execution_count": 112,
     "metadata": {},
     "output_type": "execute_result"
    }
   ],
   "source": [
    "files_1[0], files_2[0], files_3[0]"
   ]
  },
  {
   "cell_type": "code",
   "execution_count": 113,
   "metadata": {
    "collapsed": false
   },
   "outputs": [],
   "source": [
    "# X_fft = X_fft.reshape(X_fft.shape[0], X_fft.shape[1]*X_fft.shape[2])\n",
    "# X_stats = X_stats.reshape(X_stats.shape[0], X_stats.shape[1]*X_stats.shape[2])\n",
    "# X = np.hstack([X_fft, X_mean_abs, X_corr, X_stats])\n",
    "X = X_corr\n",
    "sm = SMOTE(kind='regular')\n",
    "X_train, X_test, y_train, y_test = train_test_split(X, y, test_size=0.30, random_state=1337)\n",
    "X_train, y_train = sm.fit_sample(X_train, y_train)"
   ]
  },
  {
   "cell_type": "code",
   "execution_count": 114,
   "metadata": {
    "collapsed": false
   },
   "outputs": [],
   "source": [
    "dtrain = xgb.DMatrix(X_train, label=y_train)\n",
    "dtest = xgb.DMatrix(X_test, label=y_test)"
   ]
  },
  {
   "cell_type": "code",
   "execution_count": 115,
   "metadata": {
    "collapsed": false
   },
   "outputs": [
    {
     "name": "stderr",
     "output_type": "stream",
     "text": [
      "Will train until eval error hasn't decreased in 4 rounds.\n",
      "[0]\ttrain-auc:0.884739\teval-auc:0.775141\n",
      "[1]\ttrain-auc:0.916520\teval-auc:0.803229\n",
      "[2]\ttrain-auc:0.944702\teval-auc:0.779659\n",
      "[3]\ttrain-auc:0.959083\teval-auc:0.770702\n",
      "[4]\ttrain-auc:0.967399\teval-auc:0.761235\n",
      "[5]\ttrain-auc:0.974741\teval-auc:0.768856\n",
      "Stopping. Best iteration:\n",
      "[1]\ttrain-auc:0.916520\teval-auc:0.803229\n",
      "\n"
     ]
    },
    {
     "data": {
      "text/plain": [
       "(0.92708058690149753, 0.58065359477124179)"
      ]
     },
     "execution_count": 115,
     "metadata": {},
     "output_type": "execute_result"
    }
   ],
   "source": [
    "param = {'bst:max_depth':4, 'bst:eta':.5, 'silent':0, 'objective':'binary:logistic' }\n",
    "param['nthread'] = 4\n",
    "param['eval_metric'] = 'auc'\n",
    "evallist  = [(dtrain,'train'), (dtest,'eval')]\n",
    "num_round = 100\n",
    "bst = xgb.train( param, dtrain, num_round, evallist, early_stopping_rounds=4 )\n",
    "roc_auc_score(np.round(bst.predict(dtrain)), y_train), roc_auc_score(np.round(bst.predict(dtest)), y_test)"
   ]
  },
  {
   "cell_type": "code",
   "execution_count": 116,
   "metadata": {
    "collapsed": false
   },
   "outputs": [
    {
     "data": {
      "image/png": "[encoded data removed]",
      "text/plain": [
       "<matplotlib.figure.Figure at 0xd0a5be0>"
      ]
     },
     "metadata": {},
     "output_type": "display_data"
    }
   ],
   "source": [
    "sns.heatmap(confusion_matrix(np.round(bst.predict(dtrain)), y_train), annot=True, fmt='d')\n",
    "plt.show()"
   ]
  },
  {
   "cell_type": "code",
   "execution_count": 117,
   "metadata": {
    "collapsed": false
   },
   "outputs": [
    {
     "data": {
      "image/png": "[encoded data removed]",
      "text/plain": [
       "<matplotlib.figure.Figure at 0xcb0b198>"
      ]
     },
     "metadata": {},
     "output_type": "display_data"
    }
   ],
   "source": [
    "sns.heatmap(confusion_matrix(np.round(bst.predict(dtest)), y_test), annot=True, fmt='d')\n",
    "plt.show()"
   ]
  },
  {
   "cell_type": "code",
   "execution_count": 118,
   "metadata": {
    "collapsed": false
   },
   "outputs": [
    {
     "name": "stdout",
     "output_type": "stream",
     "text": [
      "Wall time: 134 ms\n"
     ]
    }
   ],
   "source": [
    "%time X_corr, files = load_features('test_{}'.format(patient), [CorrelationMatrix()])\n",
    "# %time X_mean_abs, files_2 = load_features('test_{}'.format(patient), [Mean(), Abs()])\n",
    "# %time X_stats, files_3 = load_features('test_{}'.format(patient), [Stats()])\n",
    "# %time X_fft, files_3 = load_features('test_{}'.format(patient), [FFT(), Slice(1, 160), Magnitude(), Log10()])\n",
    "# X_fft = X_fft.reshape(X_fft.shape[0], X_fft.shape[1]*X_fft.shape[2])\n",
    "# X_stats = X_stats.reshape(X_stats.shape[0], X_stats.shape[1]*X_stats.shape[2])\n",
    "# X = np.hstack([X_fft, X_mean_abs, X_corr, X_stats])\n",
    "X = X_corr\n"
   ]
  },
  {
   "cell_type": "code",
   "execution_count": 119,
   "metadata": {
    "collapsed": true
   },
   "outputs": [],
   "source": [
    "dfinal = xgb.DMatrix(X)"
   ]
  },
  {
   "cell_type": "code",
   "execution_count": 105,
   "metadata": {
    "collapsed": true
   },
   "outputs": [],
   "source": [
    "# bst.save_model('corr_meanabs_stats_fft160_depth4_etahalf_{}.model'.format(patient))"
   ]
  },
  {
   "cell_type": "code",
   "execution_count": 106,
   "metadata": {
    "collapsed": false
   },
   "outputs": [],
   "source": [
    "from data_utils import preds_to_df"
   ]
  },
  {
   "cell_type": "code",
   "execution_count": 120,
   "metadata": {
    "collapsed": false
   },
   "outputs": [],
   "source": [
    "# preds_to_df(bst.predict(dfinal), files).to_csv(os.path.join('predictions', 'corr_xgboost_{}.csv'.format(patient)), index=False)"
   ]
  },
  {
   "cell_type": "code",
   "execution_count": 121,
   "metadata": {
    "collapsed": false
   },
   "outputs": [
    {
     "data": {
      "text/plain": [
       "0"
      ]
     },
     "execution_count": 121,
     "metadata": {},
     "output_type": "execute_result"
    }
   ],
   "source": [
    "bst.predict(dfinal).astype(int).sum()"
   ]
  },
  {
   "cell_type": "code",
   "execution_count": null,
   "metadata": {
    "collapsed": true
   },
   "outputs": [],
   "source": []
  }
 ],
 "metadata": {
  "kernelspec": {
   "display_name": "Python 2",
   "language": "python",
   "name": "python2"
  },
  "language_info": {
   "codemirror_mode": {
    "name": "ipython",
    "version": 2
   },
   "file_extension": ".py",
   "mimetype": "text/x-python",
   "name": "python",
   "nbconvert_exporter": "python",
   "pygments_lexer": "ipython2",
   "version": "2.7.11"
  }
 },
 "nbformat": 4,
 "nbformat_minor": 0
}
