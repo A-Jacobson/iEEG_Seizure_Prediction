{
 "cells": [
  {
   "cell_type": "code",
   "execution_count": 24,
   "metadata": {
    "collapsed": false
   },
   "outputs": [
    {
     "name": "stdout",
     "output_type": "stream",
     "text": [
      "The autoreload extension is already loaded. To reload it, use:\n",
      "  %reload_ext autoreload\n"
     ]
    }
   ],
   "source": [
    "import xgboost as xgb\n",
    "from data_utils import load_features, preds_to_df\n",
    "from transforms import *\n",
    "import matplotlib.pyplot as plt\n",
    "import seaborn as sns\n",
    "from sklearn.preprocessing import StandardScaler\n",
    "from sklearn.cross_validation import train_test_split\n",
    "from sklearn.metrics import confusion_matrix\n",
    "from imblearn.over_sampling import SMOTE\n",
    "import numpy as np\n",
    "from sklearn.metrics import roc_auc_score\n",
    "import os\n",
    "import pandas as pd\n",
    "%matplotlib inline\n",
    "%load_ext autoreload\n",
    "%autoreload 2\n",
    "sns.set_style(\"white\")"
   ]
  },
  {
   "cell_type": "code",
   "execution_count": 203,
   "metadata": {
    "collapsed": false
   },
   "outputs": [
    {
     "name": "stdout",
     "output_type": "stream",
     "text": [
      "Wall time: 159 ms\n",
      "Wall time: 7 ms\n",
      "Wall time: 47 ms\n",
      "Wall time: 2.44 s\n"
     ]
    }
   ],
   "source": [
    "patient = 1\n",
    "\n",
    "%time X_corr, y, files_1 = load_features('train_{}'.format(patient), [CorrelationMatrix()])\n",
    "%time X_abs_mean, y, files_2 = load_features('train_{}'.format(patient), [Abs(), Mean()])\n",
    "%time X_stats, y, files_3 = load_features('train_{}'.format(patient), [Stats()])\n",
    "%time X_fft, y, files_3 = load_features('train_{}'.format(patient), [FFT(), Slice(1, 160), Magnitude(), Log10()])"
   ]
  },
  {
   "cell_type": "code",
   "execution_count": 204,
   "metadata": {
    "collapsed": false
   },
   "outputs": [],
   "source": [
    "X_fft = X_fft.reshape(X_fft.shape[0], X_fft.shape[1]*X_fft.shape[2])\n",
    "X_stats = X_stats.reshape(X_stats.shape[0], X_stats.shape[1]*X_stats.shape[2])\n",
    "X = np.hstack([X_fft, X_abs_mean, X_corr, X_stats])\n",
    "sm = SMOTE(kind='regular')\n",
    "X_train, X_test, y_train, y_test = train_test_split(X, y, test_size=0.40)\n",
    "# X_train, y_train = sm.fit_sample(X_train, y_train)"
   ]
  },
  {
   "cell_type": "code",
   "execution_count": 205,
   "metadata": {
    "collapsed": false
   },
   "outputs": [],
   "source": [
    "dtrain = xgb.DMatrix(X_train, label=y_train)\n",
    "dtest = xgb.DMatrix(X_test, label=y_test)"
   ]
  },
  {
   "cell_type": "code",
   "execution_count": 226,
   "metadata": {
    "collapsed": false
   },
   "outputs": [
    {
     "name": "stderr",
     "output_type": "stream",
     "text": [
      "Will train until eval error hasn't decreased in 50 rounds.\n",
      "[0]\ttrain-auc:0.553317\teval-auc:0.490991\n",
      "[1]\ttrain-auc:0.653439\teval-auc:0.538342\n",
      "[2]\ttrain-auc:0.687485\teval-auc:0.545635\n",
      "[3]\ttrain-auc:0.752610\teval-auc:0.663932\n",
      "[4]\ttrain-auc:0.770151\teval-auc:0.655280\n",
      "[5]\ttrain-auc:0.771919\teval-auc:0.659749\n",
      "[6]\ttrain-auc:0.789213\teval-auc:0.656138\n",
      "[7]\ttrain-auc:0.798882\teval-auc:0.709120\n",
      "[8]\ttrain-auc:0.807277\teval-auc:0.723545\n",
      "[9]\ttrain-auc:0.810224\teval-auc:0.739704\n",
      "[10]\ttrain-auc:0.828811\teval-auc:0.746782\n",
      "[11]\ttrain-auc:0.841950\teval-auc:0.737702\n",
      "[12]\ttrain-auc:0.839592\teval-auc:0.743065\n",
      "[13]\ttrain-auc:0.847702\teval-auc:0.736379\n",
      "[14]\ttrain-auc:0.861992\teval-auc:0.751055\n",
      "[15]\ttrain-auc:0.864796\teval-auc:0.754683\n",
      "[16]\ttrain-auc:0.870291\teval-auc:0.757508\n",
      "[17]\ttrain-auc:0.877688\teval-auc:0.746908\n",
      "[18]\ttrain-auc:0.879304\teval-auc:0.744780\n",
      "[19]\ttrain-auc:0.890381\teval-auc:0.735521\n",
      "[20]\ttrain-auc:0.891968\teval-auc:0.735736\n",
      "[21]\ttrain-auc:0.903406\teval-auc:0.728353\n",
      "[22]\ttrain-auc:0.910641\teval-auc:0.733930\n",
      "[23]\ttrain-auc:0.914101\teval-auc:0.722294\n",
      "[24]\ttrain-auc:0.917752\teval-auc:0.725744\n",
      "[25]\ttrain-auc:0.913930\teval-auc:0.732822\n",
      "[26]\ttrain-auc:0.919159\teval-auc:0.727209\n",
      "[27]\ttrain-auc:0.925187\teval-auc:0.720006\n",
      "[28]\ttrain-auc:0.927126\teval-auc:0.725136\n",
      "[29]\ttrain-auc:0.930701\teval-auc:0.722419\n",
      "[30]\ttrain-auc:0.934314\teval-auc:0.717324\n",
      "[31]\ttrain-auc:0.937546\teval-auc:0.720953\n",
      "[32]\ttrain-auc:0.939315\teval-auc:0.723902\n",
      "[33]\ttrain-auc:0.944829\teval-auc:0.707743\n",
      "[34]\ttrain-auc:0.943755\teval-auc:0.719648\n",
      "[35]\ttrain-auc:0.946036\teval-auc:0.714214\n",
      "[36]\ttrain-auc:0.947919\teval-auc:0.710889\n",
      "[37]\ttrain-auc:0.950201\teval-auc:0.718897\n",
      "[38]\ttrain-auc:0.954631\teval-auc:0.720363\n",
      "[39]\ttrain-auc:0.955144\teval-auc:0.717753\n",
      "[40]\ttrain-auc:0.958187\teval-auc:0.716681\n",
      "[41]\ttrain-auc:0.961971\teval-auc:0.709102\n",
      "[42]\ttrain-auc:0.964100\teval-auc:0.708601\n",
      "[43]\ttrain-auc:0.968379\teval-auc:0.720149\n",
      "[44]\ttrain-auc:0.968987\teval-auc:0.721150\n",
      "[45]\ttrain-auc:0.970033\teval-auc:0.720077\n",
      "[46]\ttrain-auc:0.972010\teval-auc:0.714286\n",
      "[47]\ttrain-auc:0.973969\teval-auc:0.712212\n",
      "[48]\ttrain-auc:0.975148\teval-auc:0.708566\n",
      "[49]\ttrain-auc:0.975300\teval-auc:0.709602\n",
      "[50]\ttrain-auc:0.976384\teval-auc:0.706528\n",
      "[51]\ttrain-auc:0.975908\teval-auc:0.705741\n",
      "[52]\ttrain-auc:0.978894\teval-auc:0.695517\n",
      "[53]\ttrain-auc:0.979882\teval-auc:0.689976\n",
      "[54]\ttrain-auc:0.980035\teval-auc:0.684506\n",
      "[55]\ttrain-auc:0.981613\teval-auc:0.683094\n",
      "[56]\ttrain-auc:0.984408\teval-auc:0.674246\n",
      "[57]\ttrain-auc:0.985188\teval-auc:0.674710\n",
      "[58]\ttrain-auc:0.986062\teval-auc:0.662412\n",
      "[59]\ttrain-auc:0.986157\teval-auc:0.673995\n",
      "[60]\ttrain-auc:0.986728\teval-auc:0.669169\n",
      "[61]\ttrain-auc:0.988610\teval-auc:0.657229\n",
      "[62]\ttrain-auc:0.989542\teval-auc:0.661662\n",
      "[63]\ttrain-auc:0.991158\teval-auc:0.657729\n",
      "[64]\ttrain-auc:0.992109\teval-auc:0.656943\n",
      "[65]\ttrain-auc:0.992337\teval-auc:0.653439\n",
      "[66]\ttrain-auc:0.993079\teval-auc:0.652760\n",
      "Stopping. Best iteration:\n",
      "[16]\ttrain-auc:0.870291\teval-auc:0.757508\n",
      "\n"
     ]
    },
    {
     "data": {
      "text/plain": [
       "(0.95594125500667559, 0.43774703557312256)"
      ]
     },
     "execution_count": 226,
     "metadata": {},
     "output_type": "execute_result"
    }
   ],
   "source": [
    "param = {'bst:max_depth':1, 'bst:eta':.2, 'silent':0, 'objective':'binary:logistic', 'subsample':0.9,'colsample_bytree':0.9 }\n",
    "param['nthread'] = 4\n",
    "param['eval_metric'] = 'auc'\n",
    "evallist  = [(dtrain,'train'), (dtest,'eval')]\n",
    "num_round = 1000\n",
    "bst = xgb.train( param, dtrain, num_round, evallist, early_stopping_rounds=50 )\n",
    "roc_auc_score(np.round(bst.predict(dtrain)), y_train), roc_auc_score(np.round(bst.predict(dtest)), y_test)"
   ]
  },
  {
   "cell_type": "code",
   "execution_count": 184,
   "metadata": {
    "collapsed": false
   },
   "outputs": [
    {
     "data": {
      "image/png": "[encoded data removed]",
      "text/plain": [
       "<matplotlib.figure.Figure at 0x16e561d0>"
      ]
     },
     "metadata": {},
     "output_type": "display_data"
    }
   ],
   "source": [
    "sns.heatmap(confusion_matrix(np.round(bst.predict(dtrain)), y_train), annot=True, fmt='d')\n",
    "plt.show()"
   ]
  },
  {
   "cell_type": "code",
   "execution_count": 185,
   "metadata": {
    "collapsed": false
   },
   "outputs": [
    {
     "data": {
      "image/png": "[encoded data removed]",
      "text/plain": [
       "<matplotlib.figure.Figure at 0x16cd8cc0>"
      ]
     },
     "metadata": {},
     "output_type": "display_data"
    }
   ],
   "source": [
    "sns.heatmap(confusion_matrix(np.round(bst.predict(dtest)), y_test), annot=True, fmt='d')\n",
    "plt.show()"
   ]
  },
  {
   "cell_type": "code",
   "execution_count": 118,
   "metadata": {
    "collapsed": false
   },
   "outputs": [
    {
     "name": "stdout",
     "output_type": "stream",
     "text": [
      "Wall time: 134 ms\n"
     ]
    }
   ],
   "source": [
    "%time X_corr, files = load_features('test_{}'.format(patient), [CorrelationMatrix()])\n",
    "%time X_mean_abs, files_2 = load_features('test_{}'.format(patient), [Mean(), Abs()])\n",
    "%time X_stats, files_3 = load_features('test_{}'.format(patient), [Stats()])\n",
    "%time X_fft, files_3 = load_features('test_{}'.format(patient), [FFT(), Slice(1, 160), Magnitude(), Log10()])\n",
    "X_fft = X_fft.reshape(X_fft.shape[0], X_fft.shape[1]*X_fft.shape[2])\n",
    "X_stats = X_stats.reshape(X_stats.shape[0], X_stats.shape[1]*X_stats.shape[2])\n",
    "X = np.hstack([X_fft, X_mean_abs, X_corr, X_stats])\n"
   ]
  },
  {
   "cell_type": "code",
   "execution_count": 119,
   "metadata": {
    "collapsed": true
   },
   "outputs": [],
   "source": [
    "dfinal = xgb.DMatrix(X)"
   ]
  },
  {
   "cell_type": "code",
   "execution_count": 105,
   "metadata": {
    "collapsed": true
   },
   "outputs": [],
   "source": [
    "# bst.save_model('corr_meanabs_stats_fft160_depth4_etahalf_{}.model'.format(patient))"
   ]
  },
  {
   "cell_type": "code",
   "execution_count": 106,
   "metadata": {
    "collapsed": false
   },
   "outputs": [],
   "source": [
    "from data_utils import preds_to_df"
   ]
  },
  {
   "cell_type": "code",
   "execution_count": 120,
   "metadata": {
    "collapsed": false
   },
   "outputs": [],
   "source": [
    "# preds_to_df(bst.predict(dfinal), files).to_csv(os.path.join('predictions', 'corr_xgboost_{}.csv'.format(patient)), index=False)"
   ]
  },
  {
   "cell_type": "code",
   "execution_count": 121,
   "metadata": {
    "collapsed": false
   },
   "outputs": [
    {
     "data": {
      "text/plain": [
       "0"
      ]
     },
     "execution_count": 121,
     "metadata": {},
     "output_type": "execute_result"
    }
   ],
   "source": [
    "bst.predict(dfinal).astype(int).sum()"
   ]
  },
  {
   "cell_type": "code",
   "execution_count": null,
   "metadata": {
    "collapsed": true
   },
   "outputs": [],
   "source": []
  }
 ],
 "metadata": {
  "kernelspec": {
   "display_name": "Python 2",
   "language": "python",
   "name": "python2"
  },
  "language_info": {
   "codemirror_mode": {
    "name": "ipython",
    "version": 2
   },
   "file_extension": ".py",
   "mimetype": "text/x-python",
   "name": "python",
   "nbconvert_exporter": "python",
   "pygments_lexer": "ipython2",
   "version": "2.7.11"
  }
 },
 "nbformat": 4,
 "nbformat_minor": 0
}
