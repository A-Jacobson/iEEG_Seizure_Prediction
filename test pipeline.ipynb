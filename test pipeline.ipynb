{
 "cells": [
  {
   "cell_type": "code",
   "execution_count": 141,
   "metadata": {
    "collapsed": false
   },
   "outputs": [
    {
     "name": "stdout",
     "output_type": "stream",
     "text": [
      "The autoreload extension is already loaded. To reload it, use:\n",
      "  %reload_ext autoreload\n"
     ]
    }
   ],
   "source": [
    "from pipeline import Pipeline\n",
    "from transforms import Resample, LPF, Mean, ICA, Stats, Abs\n",
    "from data_utils import load_data\n",
    "import os\n",
    "import numpy as np\n",
    "import cPickle\n",
    "%load_ext autoreload\n",
    "%autoreload 2"
   ]
  },
  {
   "cell_type": "code",
   "execution_count": 54,
   "metadata": {
    "collapsed": false
   },
   "outputs": [
    {
     "name": "stdout",
     "output_type": "stream",
     "text": [
      "Wall time: 2.67 s\n"
     ]
    }
   ],
   "source": [
    "%time feats = pipe.apply(X_1)"
   ]
  },
  {
   "cell_type": "code",
   "execution_count": 144,
   "metadata": {
    "collapsed": false
   },
   "outputs": [
    {
     "name": "stdout",
     "output_type": "stream",
     "text": [
      "found 20 files\n",
      "Wall time: 44 ms\n"
     ]
    }
   ],
   "source": [
    "%time X_1, y_1, files_1 = load_data('train_1', sample=20)"
   ]
  },
  {
   "cell_type": "code",
   "execution_count": 114,
   "metadata": {
    "collapsed": false
   },
   "outputs": [],
   "source": [
    "pipe = Pipeline([Stats()])"
   ]
  },
  {
   "cell_type": "code",
   "execution_count": 142,
   "metadata": {
    "collapsed": false
   },
   "outputs": [],
   "source": [
    "pipe.to_file(X_1, files_1, 'test', y_1)"
   ]
  },
  {
   "cell_type": "code",
   "execution_count": 145,
   "metadata": {
    "collapsed": false
   },
   "outputs": [],
   "source": [
    "pip2 = Pipeline([Resample(600)])"
   ]
  },
  {
   "cell_type": "code",
   "execution_count": 146,
   "metadata": {
    "collapsed": false
   },
   "outputs": [],
   "source": [
    "feats = pip2.apply(X_1)"
   ]
  },
  {
   "cell_type": "code",
   "execution_count": 148,
   "metadata": {
    "collapsed": false
   },
   "outputs": [
    {
     "data": {
      "text/plain": [
       "(20L, 16L, 600L)"
      ]
     },
     "execution_count": 148,
     "metadata": {},
     "output_type": "execute_result"
    }
   ],
   "source": [
    "feats.shape"
   ]
  },
  {
   "cell_type": "code",
   "execution_count": 83,
   "metadata": {
    "collapsed": false
   },
   "outputs": [],
   "source": [
    "data = [feats, y_1, files_1]"
   ]
  },
  {
   "cell_type": "code",
   "execution_count": 85,
   "metadata": {
    "collapsed": false
   },
   "outputs": [
    {
     "data": {
      "text/plain": [
       "((20L, 16L, 3L), (20L,), (20L,))"
      ]
     },
     "execution_count": 85,
     "metadata": {},
     "output_type": "execute_result"
    }
   ],
   "source": [
    "data[0].shape, data[1].shape, data[2].shape"
   ]
  },
  {
   "cell_type": "code",
   "execution_count": 109,
   "metadata": {
    "collapsed": false
   },
   "outputs": [
    {
     "data": {
      "text/plain": [
       "'feature_vectors\\\\test_mean_.pkl'"
      ]
     },
     "execution_count": 109,
     "metadata": {},
     "output_type": "execute_result"
    }
   ],
   "source": [
    "dest_dir = 'feature_vectors'\n",
    "data_name = 'test'\n",
    "name = 'mean_'\n",
    "\n",
    "os.path.join(dest_dir, data_name+'_'+name+'.pkl')"
   ]
  },
  {
   "cell_type": "code",
   "execution_count": 110,
   "metadata": {
    "collapsed": true
   },
   "outputs": [],
   "source": [
    "import os"
   ]
  },
  {
   "cell_type": "code",
   "execution_count": 118,
   "metadata": {
    "collapsed": false
   },
   "outputs": [],
   "source": [
    "import cPickle"
   ]
  },
  {
   "cell_type": "code",
   "execution_count": 120,
   "metadata": {
    "collapsed": false
   },
   "outputs": [],
   "source": [
    "with open(os.path.join('feature_vectors', 'train_1_chMean.pkl'), 'rb') as f:\n",
    "    data = cPickle.load(f)"
   ]
  },
  {
   "cell_type": "code",
   "execution_count": 123,
   "metadata": {
    "collapsed": false
   },
   "outputs": [
    {
     "data": {
      "text/plain": [
       "array([[ -9.83683321e-07,   1.89917665e-02,   1.10198848e-01, ...,\n",
       "          2.94296294e-01,   2.03892991e-01,   4.82356511e-02],\n",
       "       [ -3.19417325e-07,   1.00683793e-03,   9.13381204e-02, ...,\n",
       "          2.40331247e-01,   1.64330199e-01,   4.14782763e-02],\n",
       "       [  3.66210955e-08,   1.00977381e-03,   1.14871174e-01, ...,\n",
       "          3.28620642e-01,   2.18247324e-01,   7.17839375e-02],\n",
       "       ..., \n",
       "       [ -1.70389811e-07,  -5.99753344e-04,   8.97090044e-03, ...,\n",
       "          2.91291699e-02,   3.84663343e-02,   1.12210764e-02],\n",
       "       [  9.05354796e-08,   5.70511853e-04,   3.24630216e-02, ...,\n",
       "          7.77836889e-02,   7.04036802e-02,   2.09332090e-02],\n",
       "       [ -1.35803219e-07,   5.55064296e-03,   2.91998088e-02, ...,\n",
       "          7.55627751e-02,   5.44629954e-02,   5.82056493e-03]], dtype=float32)"
      ]
     },
     "execution_count": 123,
     "metadata": {},
     "output_type": "execute_result"
    }
   ],
   "source": [
    "data[0]"
   ]
  },
  {
   "cell_type": "code",
   "execution_count": 125,
   "metadata": {
    "collapsed": false
   },
   "outputs": [
    {
     "data": {
      "text/plain": [
       "array(['1_1000_0.mat', '1_1001_0.mat', '1_1002_0.mat', ..., '1_1013_0.mat',\n",
       "       '1_1014_0.mat', '1_1017_0.mat'], \n",
       "      dtype='|S12')"
      ]
     },
     "execution_count": 125,
     "metadata": {},
     "output_type": "execute_result"
    }
   ],
   "source": [
    "data[2]"
   ]
  },
  {
   "cell_type": "code",
   "execution_count": 126,
   "metadata": {
    "collapsed": true
   },
   "outputs": [],
   "source": [
    "with open(os.path.join('feature_vectors', 'train_1_chMean_abs.pkl'), 'rb') as f:\n",
    "    data2 = cPickle.load(f)"
   ]
  },
  {
   "cell_type": "code",
   "execution_count": 127,
   "metadata": {
    "collapsed": false
   },
   "outputs": [
    {
     "data": {
      "text/plain": [
       "array(['1_1000_0.mat', '1_1001_0.mat', '1_1002_0.mat', ..., '1_1013_0.mat',\n",
       "       '1_1014_0.mat', '1_1017_0.mat'], \n",
       "      dtype='|S12')"
      ]
     },
     "execution_count": 127,
     "metadata": {},
     "output_type": "execute_result"
    }
   ],
   "source": [
    "data2[2]"
   ]
  },
  {
   "cell_type": "code",
   "execution_count": 128,
   "metadata": {
    "collapsed": false
   },
   "outputs": [
    {
     "data": {
      "text/plain": [
       "(1267L, 16L)"
      ]
     },
     "execution_count": 128,
     "metadata": {},
     "output_type": "execute_result"
    }
   ],
   "source": [
    "data[0].shape"
   ]
  },
  {
   "cell_type": "code",
   "execution_count": 129,
   "metadata": {
    "collapsed": false
   },
   "outputs": [
    {
     "data": {
      "text/plain": [
       "(1267L, 16L)"
      ]
     },
     "execution_count": 129,
     "metadata": {},
     "output_type": "execute_result"
    }
   ],
   "source": [
    "data2[0].shape"
   ]
  },
  {
   "cell_type": "code",
   "execution_count": 135,
   "metadata": {
    "collapsed": false
   },
   "outputs": [
    {
     "data": {
      "text/plain": [
       "(1267L, 32L)"
      ]
     },
     "execution_count": 135,
     "metadata": {},
     "output_type": "execute_result"
    }
   ],
   "source": [
    "np.hstack([data[0], data2[0]])"
   ]
  },
  {
   "cell_type": "code",
   "execution_count": 136,
   "metadata": {
    "collapsed": false
   },
   "outputs": [
    {
     "data": {
      "text/plain": [
       "array([ -9.83683321e-07,   1.89917665e-02,   1.10198848e-01,\n",
       "        -7.03443214e-02,   1.21276408e-01,  -8.58199671e-02,\n",
       "        -4.71746586e-02,  -2.05775425e-01,  -1.24229565e-01,\n",
       "        -2.28837758e-01,  -2.46325850e-01,   2.87570536e-01,\n",
       "         3.69416058e-01,   2.94296294e-01,   2.03892991e-01,\n",
       "         4.82356511e-02], dtype=float32)"
      ]
     },
     "execution_count": 136,
     "metadata": {},
     "output_type": "execute_result"
    }
   ],
   "source": [
    "data[0][0]"
   ]
  },
  {
   "cell_type": "code",
   "execution_count": 137,
   "metadata": {
    "collapsed": false
   },
   "outputs": [
    {
     "data": {
      "text/plain": [
       "array([  9.83683321e-07,   1.89917665e-02,   1.10198848e-01,\n",
       "         7.03443214e-02,   1.21276408e-01,   8.58199671e-02,\n",
       "         4.71746586e-02,   2.05775425e-01,   1.24229565e-01,\n",
       "         2.28837758e-01,   2.46325850e-01,   2.87570536e-01,\n",
       "         3.69416058e-01,   2.94296294e-01,   2.03892991e-01,\n",
       "         4.82356511e-02], dtype=float32)"
      ]
     },
     "execution_count": 137,
     "metadata": {},
     "output_type": "execute_result"
    }
   ],
   "source": [
    "data2[0][0]"
   ]
  },
  {
   "cell_type": "code",
   "execution_count": null,
   "metadata": {
    "collapsed": true
   },
   "outputs": [],
   "source": []
  }
 ],
 "metadata": {
  "kernelspec": {
   "display_name": "Python 2",
   "language": "python",
   "name": "python2"
  },
  "language_info": {
   "codemirror_mode": {
    "name": "ipython",
    "version": 2
   },
   "file_extension": ".py",
   "mimetype": "text/x-python",
   "name": "python",
   "nbconvert_exporter": "python",
   "pygments_lexer": "ipython2",
   "version": "2.7.11"
  }
 },
 "nbformat": 4,
 "nbformat_minor": 0
}
